{
 "cells": [
  {
   "cell_type": "markdown",
   "metadata": {},
   "source": [
    "## Marciniak, Duncan, and Hu (2002): Mechanics of Sheet Metal Forming.\n",
    "### (Worked example) 2D stamping\n",
    "\n",
    "<img src=\"marciniak_fig4_2.png\" alt=\"Stamping\" width=\"400\"/>\n",
    "\n",
    "Figure 4.2. Simple draw die with the punch face having a circular profile.\n",
    "\n",
    "<img src=\"marciniak_fig4_3.png\" alt=\"Stamping\" width=\"600\"/>\n",
    "\n",
    "Figure 4.3. Half-section of a partially drawn strip in the die shown in Figure 4.2.\n",
    "\n",
    "Drawing quality steel of 0.8 mm thickness is formed in a stamping die as shown in Figure 4.3 but with vertical side walls. The plane strain stress–strain relation is\n",
    "$$\n",
    "\\sigma_1 = 750 \\varepsilon_1^{0.23} \\text{ MPa}\n",
    "$$\n",
    "\n",
    "In the two-dimensional plane strain model, the variables are:\n",
    " - Semi punch width: $a$ = 330 mm\n",
    " - Punch face radius: $R_f$ = 2800 mm\n",
    " - Corner radius: $R_p$, $R_d$ = 10 mm\n",
    " - Side wall length: $s_\\text{BC}$ = 28 mm\n",
    " - Land width: $s_\\text{DE}$ = 0 mm\n",
    " - Clamp width: $s_\\text{EF}$ = 80 mm\n",
    "\n",
    "1. Estimate the blankholder force per side, per unit width, to achieve a strain $\\varepsilon_{1,\\text{O}} = 0.03$ at the centre if the friction coefficient is 0.1.\n",
    "2. If $s$ is the arc length measured along the deformed sheet in the above condition, prepare diagrams in which the horizontal axes are each $s$, and the vertical axes are:\n",
    " 1. the membrane strain $\\varepsilon_1$,\n",
    " 2. sheet thickness,\n",
    " 3. the tension $T_1$ in kN/m, and\n",
    " 4. the contact pressure.    \n",
    "3. If in the condition shown, the edge of the sheet just comes to the point $F$, estimate approximately the initial semi blank width.\n",
    "4. If, in the position shown, the side wall is about to split, estimate the punch force $P$ and the strain at the centre $\\varepsilon_{1,\\text{O}}$.\n",
    "\n",
    "\n",
    "### Example in Python\n",
    "\n",
    "Known data:"
   ]
  },
  {
   "cell_type": "code",
   "execution_count": 1,
   "metadata": {},
   "outputs": [],
   "source": [
    "import math\n",
    "\n",
    "t0 = 0.8\n",
    "thetaOB = math.pi/2\n",
    "K = 750\n",
    "n = 0.23\n",
    "s1 = lambda e1: K*e1**n   # material behaviour as a function of strain e1\n",
    "a = 330\n",
    "Rf = 2800\n",
    "Rp = 10\n",
    "Rd = 10\n",
    "sBC = 28\n",
    "sDE = 0\n",
    "sEF = 80\n",
    "e1O = 0.03\n",
    "mu = 0.1"
   ]
  },
  {
   "cell_type": "markdown",
   "metadata": {},
   "source": [
    "#### Tension at the centreline\n",
    "\n",
    "$$\n",
    "T_{1,\\text{O}} = {[\\sigma_{1} t]}_\\text{O} = K (\\varepsilon_{1,\\text{O}})^n \\cdot t_0 \\exp{(-\\varepsilon_{1,\\text{O}})}\n",
    "$$"
   ]
  },
  {
   "cell_type": "code",
   "execution_count": 2,
   "metadata": {},
   "outputs": [
    {
     "name": "stdout",
     "output_type": "stream",
     "text": [
      "s1 = 334.8 MPa, t = 0.776 mm --> T1 = 260 kN/m\n"
     ]
    }
   ],
   "source": [
    "s1O = s1(e1O)\n",
    "e3O = -e1O\n",
    "tO = t0*math.exp(e3O)\n",
    "T1O = s1O*tO\n",
    "print('s1 = %0.1f MPa, t = %0.3f mm --> T1 = %0.0f kN/m' % (s1O, tO, T1O))"
   ]
  },
  {
   "cell_type": "markdown",
   "metadata": {},
   "source": [
    "#### Dimensions of each zone:\n",
    "\n",
    "- Zone OA:\n",
    "$\n",
    "R_f \\sin \\theta_{\\text{OA}} = a-R_p \\quad\\rightarrow\\quad\n",
    "\\theta_{\\text{OA}} = \\arcsin \\frac{a-R_p}{R_f} \\quad\\rightarrow\\quad\n",
    "s_{\\text{OA}} = R_f \\, \\theta_{\\text{OA}}\n",
    "$\n",
    "\n",
    "- Zone AB:\n",
    "$\n",
    "\\theta_{\\text{OB}} = \\pi/2  \\quad\\rightarrow\\quad\n",
    "\\theta_{\\text{AB}} = \\pi/2 - \\theta_{\\text{OA}} \\quad\\rightarrow\\quad\n",
    "s_{\\text{AB}} = R_p (\\pi/2 - \\theta_{\\text{OA}})\n",
    "$\n",
    "\n",
    "- Zone BC:\n",
    "$\n",
    "s_{\\text{BC}} = 28\\text{ mm}\n",
    "$\n",
    "\n",
    "- Zone CD:\n",
    "$\n",
    "\\theta_{\\text{DC}} = \\theta_{\\text{OB}} = \\pi/2  \\quad\\rightarrow\\quad\n",
    "s_{\\text{CD}} = R_d \\, \\pi/2\n",
    "$\n",
    "\n",
    "- Zone DE:\n",
    "$\n",
    "s_{\\text{DE}} = 0\\text{ mm}\n",
    "$\n",
    "\n",
    "- Zone EF:\n",
    "$\n",
    "s_{\\text{EF}} = 80\\text{ mm}\n",
    "$"
   ]
  },
  {
   "cell_type": "code",
   "execution_count": 3,
   "metadata": {},
   "outputs": [
    {
     "name": "stdout",
     "output_type": "stream",
     "text": [
      "Zone OA: 0.115 rad (6.6°), 321 mm\n",
      "Zone AB: 1.456 rad (83.4°), 15 mm\n",
      "Zone BC: 28 mm\n",
      "Zone CD: 16 mm\n",
      "Zone DE: 0 mm\n",
      "Zone EF: 80 mm\n",
      "Total lenght= 459 mm\n"
     ]
    }
   ],
   "source": [
    "thetaOA = math.asin((a-Rp)/Rf)\n",
    "sOA = Rf*thetaOA\n",
    "print('Zone OA: %0.3f rad (%0.1f°), %.0f mm' % (thetaOA, thetaOA*180/3.1416, sOA))\n",
    "thetaAB = thetaOB - thetaOA\n",
    "sAB = Rp*thetaAB\n",
    "print('Zone AB: %0.3f rad (%0.1f°), %.0f mm' % (thetaAB, thetaAB*180/3.1416, sAB))\n",
    "print('Zone BC: %s mm' % sBC)\n",
    "thetaDC = thetaOB\n",
    "sCD = Rd*thetaDC\n",
    "print('Zone CD: %.0f mm' % sCD)\n",
    "print('Zone DE: %s mm' % sDE)\n",
    "print('Zone EF: %s mm' % sEF)\n",
    "s_total = sOA+sAB+sBC+sCD+sDE+sEF\n",
    "print('Total lenght= %0.0f mm' % s_total)"
   ]
  },
  {
   "cell_type": "markdown",
   "metadata": {},
   "source": [
    "#### Tension\n",
    "\n",
    "The tension at one end k of a curved section of sheet is found from longitudinal equilibrium as:\n",
    "$$\n",
    "T_{1,\\text{k}} = T_{1,\\text{j}} \\exp (\\mu\\,\\theta_\\text{jk})\n",
    "$$\n",
    "where j is the other end of the section and $\\theta_\\text{jk}$ is the angle between both ends.\n",
    "\n",
    "$$\n",
    "\\begin{aligned}\n",
    "T_{1,\\text{A}} = & T_{1,\\text{O}} \\exp (\\mu\\,\\theta_{\\text{OA}}) \\\\\n",
    "T_{1,\\text{B}} = & T_{1,\\text{O}} \\exp (\\mu\\,\\theta_{\\text{OB}}) = T_{1,\\text{O}} \\exp (\\mu\\,\\pi/2) \\\\\n",
    "T_{1,\\text{C}} = & T_{1,\\text{B}} \\\\\n",
    "T_{1,\\text{D}} = & T_{1,\\text{C}} \\exp (\\mu\\,\\theta_{\\text{CD}}) = T_{1,\\text{C}} \\exp (-\\mu\\,\\pi/2) \\\\\n",
    "T_{1,\\text{E}} = & T_{1,\\text{D}} \\\\\n",
    "T_{1,\\text{F}} = & 0\n",
    "\\end{aligned}\n",
    "$$"
   ]
  },
  {
   "cell_type": "code",
   "execution_count": 4,
   "metadata": {},
   "outputs": [
    {
     "name": "stdout",
     "output_type": "stream",
     "text": [
      "T1A = 263 kN/m\n",
      "T1B = 304 kN/m\n",
      "T1C = 304 kN/m\n",
      "T1D = 260 kN/m\n",
      "T1E = 260 kN/m\n",
      "T1F = 0 kN/m\n"
     ]
    }
   ],
   "source": [
    "T1A = T1O*math.exp(mu*thetaOA)\n",
    "print('T1A = %.0f kN/m' % T1A)\n",
    "T1B = T1O*math.exp(mu*3.1416/2)\n",
    "print('T1B = %.0f kN/m' % T1B)\n",
    "T1C = T1B\n",
    "print('T1C = %.0f kN/m' % T1C)\n",
    "T1D = T1C*math.exp(-mu*thetaDC)\n",
    "print('T1D = %.0f kN/m' % T1D)\n",
    "T1E = T1D\n",
    "print('T1E = %.0f kN/m' % T1E)\n",
    "T1F = 0\n",
    "print('T1F = %.0f kN/m' % T1F)"
   ]
  },
  {
   "cell_type": "markdown",
   "metadata": {},
   "source": [
    "#### Tension distribution along the sheet"
   ]
  },
  {
   "cell_type": "code",
   "execution_count": 5,
   "metadata": {},
   "outputs": [
    {
     "data": {
      "image/png": "[encoded data removed]",
      "text/plain": [
       "<Figure size 432x288 with 1 Axes>"
      ]
     },
     "metadata": {
      "needs_background": "light"
     },
     "output_type": "display_data"
    }
   ],
   "source": [
    "from marciniak_stamping_example import *\n",
    "\n",
    "params = [Rf, Rp, Rd, mu, K, n, t0]\n",
    "length = [sOA, sAB, sBC, sCD, sDE, sEF]\n",
    "theta = [thetaOA, thetaAB, thetaOB, thetaDC]\n",
    "tension = [T1O, T1A, T1B, T1C, T1D, T1E, T1F]\n",
    "plot_T1(params, length, theta, tension)"
   ]
  },
  {
   "cell_type": "markdown",
   "metadata": {},
   "source": [
    "#### Blankholder force:\n",
    "$$\n",
    "T_{1,\\text{E}} = 2\\mu B \\quad\\rightarrow\\quad B = \\frac{T_{1,\\text{E}}}{2\\mu}\n",
    "$$"
   ]
  },
  {
   "cell_type": "code",
   "execution_count": 6,
   "metadata": {},
   "outputs": [
    {
     "name": "stdout",
     "output_type": "stream",
     "text": [
      "B = 1300 kN/m\n"
     ]
    }
   ],
   "source": [
    "B = T1E/(2*mu)\n",
    "print('B = %.0f kN/m' % B)"
   ]
  },
  {
   "cell_type": "markdown",
   "metadata": {},
   "source": [
    "#### Punch force:\n",
    "$$\n",
    "F = 2 \\, T_{1,\\text{B}} \\sin{\\theta_{\\text{OB}}}\n",
    "$$"
   ]
  },
  {
   "cell_type": "code",
   "execution_count": 7,
   "metadata": {},
   "outputs": [
    {
     "name": "stdout",
     "output_type": "stream",
     "text": [
      "F = 608 kN/m\n"
     ]
    }
   ],
   "source": [
    "F = 2*T1B*math.sin(thetaOB)\n",
    "print('F = %.0f kN/m' % F)"
   ]
  },
  {
   "cell_type": "markdown",
   "metadata": {},
   "source": [
    "#### Strains:\n",
    "The strain distribution $\\varepsilon_{1}$ in a curved sheet zone corresponding to the tension distribution $T_1$ can be found from:\n",
    "$$\n",
    "T_{1} = K \\varepsilon_{1}^n \\cdot t_0 \\exp{(-\\varepsilon_{1})}\n",
    "$$\n",
    "This equation shows that $\\varepsilon_1$ must be found by a numerical solution. A simple method is by trial and error:\n",
    "\n",
    "1. Suppose $\\varepsilon_1^*$\n",
    "2. Calculate $T_1^*$ from equation above.\n",
    "3. If $T_1^* \\neq T_1$, repeat step 1.\n",
    "\n",
    "The calculation procedure must be applied at each end of the curved sections of sheet metal:\n",
    "$$\n",
    "\\begin{aligned}\n",
    "T_{1,\\text{A}} = & K (\\varepsilon_{1,\\text{A}})^n \\cdot t_0 \\exp{(-\\varepsilon_{1,\\text{A}})} & \\quad\\rightarrow\\quad \\varepsilon_{1,\\text{A}} \\\\\n",
    "T_{1,\\text{B}} = & K (\\varepsilon_{1,\\text{B}})^n \\cdot t_0 \\exp{(-\\varepsilon_{1,\\text{B}})} & \\quad\\rightarrow\\quad \\varepsilon_{1,\\text{B}} \\\\\n",
    "T_{1,\\text{C}} = & T_{1,\\text{B}} & \\quad\\rightarrow\\quad \\varepsilon_{1,\\text{C}}=\\varepsilon_{1,\\text{B}} \\\\\n",
    "T_{1,\\text{D}} = & K (\\varepsilon_{1,\\text{D}})^n \\cdot t_0 \\exp{(-\\varepsilon_{1,\\text{D}})} & \\quad\\rightarrow\\quad \\varepsilon_{1,\\text{D}} \\\\\n",
    "T_{1,\\text{E}} = & T_{1,\\text{D}} & \\quad\\rightarrow\\quad \\varepsilon_{1,\\text{E}}=\\varepsilon_{1,\\text{D}}\n",
    "\\end{aligned}\n",
    "$$\n",
    "\n",
    "However, in this notebook we will use the Python library [Scipy](https://www.scipy.org/) to solve the equations.\n"
   ]
  },
  {
   "cell_type": "code",
   "execution_count": 8,
   "metadata": {},
   "outputs": [
    {
     "name": "stdout",
     "output_type": "stream",
     "text": [
      "e1A = 0.032 \t --> Checking: T1A = 262.9 kN/m\n",
      "e1B = 0.071 \t --> Checking: T1B = 304.1 kN/m\n",
      "e1C = 0.071\n",
      "e1D = 0.030 \t --> Checking: T1D = 259.9 kN/m\n",
      "e1E = 0.030\n",
      "e1F = 0.000\n"
     ]
    }
   ],
   "source": [
    "from scipy.optimize import fsolve\n",
    "\n",
    "funcT1 = lambda x : s1(x)*t0*math.exp(-x)\n",
    "funcA = lambda x : T1A - funcT1(x)\n",
    "funcB = lambda x : T1B - funcT1(x)\n",
    "funcD = lambda x : T1D - funcT1(x)\n",
    "e1A = fsolve(funcA, e1O)\n",
    "e1B = fsolve(funcB, e1A)\n",
    "e1C = e1B\n",
    "e1D = fsolve(funcD, e1C)\n",
    "e1E = e1D\n",
    "e1F = 0\n",
    "print('e1A = %.3f \\t --> Checking: T1A = %0.1f kN/m' % (e1A, funcT1(e1A)))\n",
    "print('e1B = %.3f \\t --> Checking: T1B = %0.1f kN/m' % (e1B, funcT1(e1B)))\n",
    "print('e1C = %.3f' % e1C)\n",
    "print('e1D = %.3f \\t --> Checking: T1D = %0.1f kN/m' % (e1D, funcT1(e1D)))\n",
    "print('e1E = %.3f' % e1E)\n",
    "print('e1F = %.3f' % e1F)"
   ]
  },
  {
   "cell_type": "markdown",
   "metadata": {},
   "source": [
    "#### Strain and thickness distribution along the sheet"
   ]
  },
  {
   "cell_type": "code",
   "execution_count": 9,
   "metadata": {},
   "outputs": [
    {
     "name": "stderr",
     "output_type": "stream",
     "text": [
      "/usr/lib/python3/dist-packages/numpy/core/_asarray.py:136: VisibleDeprecationWarning: Creating an ndarray from ragged nested sequences (which is a list-or-tuple of lists-or-tuples-or ndarrays with different lengths or shapes) is deprecated. If you meant to do this, you must specify 'dtype=object' when creating the ndarray\n",
      "  return array(a, dtype, copy=False, order=order, subok=True)\n"
     ]
    },
    {
     "data": {
      "image/png": "[encoded data removed]",
      "text/plain": [
       "<Figure size 432x288 with 2 Axes>"
      ]
     },
     "metadata": {
      "needs_background": "light"
     },
     "output_type": "display_data"
    }
   ],
   "source": [
    "strain = [e1O, e1A, e1B, e1C, e1D, e1E, e1F]\n",
    "thickness = [t0*math.exp(-e) for e in strain]\n",
    "plot_strain(params, length, theta, tension, strain, thickness)"
   ]
  },
  {
   "cell_type": "markdown",
   "metadata": {},
   "source": [
    "#### Contact pressure\n",
    "\n",
    "The contact pressure in a curved section is found from radial equilibrium as:\n",
    "$$\n",
    "p = \\frac{T_1}{R}\n",
    "$$\n",
    "\n",
    "\n",
    "- Zone OA:\n",
    "$\n",
    "p_\\text{O} = \\frac{T_{1,\\text{O}}}{R_f} \\qquad\n",
    "p_\\text{A} = \\frac{T_{1,\\text{A}}}{R_f}\n",
    "$\n",
    "\n",
    "- Zone AB:\n",
    "$\n",
    "p_\\text{A} = \\frac{T_{1,\\text{A}}}{R_p} \\qquad\n",
    "p_\\text{B} = \\frac{T_{1,\\text{B}}}{R_p}\n",
    "$\n",
    "\n",
    "- Zone BC:\n",
    "$\n",
    "p_\\text{B} = 0 \\qquad\n",
    "p_\\text{C} = 0\n",
    "$\n",
    "\n",
    "- Zone CD:\n",
    "$\n",
    "p_\\text{C} = \\frac{T_{1,\\text{C}}}{R_d} \\qquad\n",
    "p_\\text{D} = \\frac{T_{1,\\text{D}}}{R_d}\n",
    "$\n",
    "\n",
    "- Zone DE:\n",
    "$\n",
    "p_\\text{D} = 0 \\qquad\n",
    "p_\\text{E} = 0\n",
    "$\n",
    "\n",
    "- Zone EF:\n",
    "$\n",
    "p_\\text{E} = \\frac{B}{s_\\text{EF}} \\qquad\n",
    "p_\\text{F} = \\frac{B}{s_\\text{EF}}\n",
    "$\n",
    "\n",
    "- Outside:\n",
    "$\n",
    "p_\\text{F} = 0\n",
    "$\n"
   ]
  },
  {
   "cell_type": "code",
   "execution_count": 10,
   "metadata": {},
   "outputs": [
    {
     "name": "stdout",
     "output_type": "stream",
     "text": [
      "Zone OA: pO = 0.093 MPa, pA = 0.094 MPa\n",
      "Zone BC: pA = 26.3 MPa, pB = 30.4 MPa\n",
      "Zone CD: pB = pC = 0\n",
      "Zone DE: pC = 30.4 MPa, pD = 26.0 MPa\n",
      "Zone EF: pD = pE = 0\n",
      "Zone F: pE = 16.2 MPa, pF = 16.2 MPa\n",
      "Outside: pF = 0\n"
     ]
    }
   ],
   "source": [
    "pO = T1O/Rf\n",
    "pA1 = T1A/Rf\n",
    "print('Zone OA: pO = %.3f MPa, pA = %.3f MPa' % (pO, pA1))\n",
    "pA2 = T1A/Rp\n",
    "pB1 = T1B/Rp\n",
    "print('Zone BC: pA = %.1f MPa, pB = %.1f MPa' % (pA2, pB1))\n",
    "pB2 = 0\n",
    "pC1 = 0\n",
    "print('Zone CD: pB = pC = 0')\n",
    "pC2 = T1C/Rp\n",
    "pD1 = T1D/Rd\n",
    "print('Zone DE: pC = %.1f MPa, pD = %.1f MPa' % (pC2, pD1))\n",
    "pD2 = 0\n",
    "pE1 = 0\n",
    "print('Zone EF: pD = pE = 0')\n",
    "pE2 = B/sEF\n",
    "pF1 = pE2\n",
    "print('Zone F: pE = %.1f MPa, pF = %.1f MPa' % (pE2, pF1))\n",
    "pF2 = 0\n",
    "print('Outside: pF = 0')"
   ]
  },
  {
   "cell_type": "markdown",
   "metadata": {},
   "source": [
    "#### Pressure distribution along the sheet"
   ]
  },
  {
   "cell_type": "code",
   "execution_count": 11,
   "metadata": {},
   "outputs": [
    {
     "data": {
      "image/png": "[encoded data removed]",
      "text/plain": [
       "<Figure size 432x288 with 1 Axes>"
      ]
     },
     "metadata": {
      "needs_background": "light"
     },
     "output_type": "display_data"
    }
   ],
   "source": [
    "pressure = [pO, pA1, pA2, pB1, pB2, pC1, pC2, pD1, pD2, pE1, pE2, pF1, pF2]\n",
    "plot_pressure(params, length, theta, tension, pressure)"
   ]
  },
  {
   "cell_type": "markdown",
   "metadata": {},
   "source": [
    "#### Initial semi-blank width, $w_0$\n",
    "\n",
    "By volume conservation:\n",
    "$$\n",
    "w_0 = \\frac{1}{t_0} \\sum s_i \\, \\overline{t_i}\n",
    "$$\n",
    "\n",
    "Overall average strain:\n",
    "$$\n",
    "\\overline{\\varepsilon_1} = \\ln\\frac{\\sum s_i}{w_0}\n",
    "$$\n"
   ]
  },
  {
   "cell_type": "code",
   "execution_count": 12,
   "metadata": {},
   "outputs": [
    {
     "name": "stdout",
     "output_type": "stream",
     "text": [
      "Zone OA: s = 320.7 mm, t = 0.776 mm --> initial length = 310.9 mm\n",
      "Zone AB: s = 14.6 mm, t = 0.760 mm --> initial length = 13.8 mm\n",
      "Zone BC: s = 28.0 mm, t = 0.745 mm --> initial length = 26.1 mm\n",
      "Zone CD: s = 15.7 mm, t = 0.761 mm --> initial length = 14.9 mm\n",
      "Zone DE: s = 0.0 mm, t = 0.776 mm --> initial length = 0.0 mm\n",
      "Zone EF: s = 80.0 mm, t = 0.788 mm --> initial length = 78.8 mm\n",
      "Original semi-blank width, w0 = 445 mm \n",
      "Overall average strain = 0.032\n"
     ]
    }
   ],
   "source": [
    "tO, tA, tB, tC, tD, tE, tF = thickness\n",
    "tOA = (tO+tA)/2\n",
    "wOA = sOA*tOA/t0\n",
    "print('Zone OA: s = %.1f mm, t = %.3f mm --> initial length = %.1f mm' % (sOA, tOA, wOA))\n",
    "tAB = (tA+tB)/2\n",
    "wAB = sAB*tAB/t0\n",
    "print('Zone AB: s = %.1f mm, t = %.3f mm --> initial length = %.1f mm' % (sAB, tAB, wAB))\n",
    "tBC = (tB+tC)/2\n",
    "wBC = sBC*tBC/t0\n",
    "print('Zone BC: s = %.1f mm, t = %.3f mm --> initial length = %.1f mm' % (sBC, tBC, wBC))\n",
    "tCD = (tC+tD)/2\n",
    "wCD = sCD*tCD/t0\n",
    "print('Zone CD: s = %.1f mm, t = %.3f mm --> initial length = %.1f mm' % (sCD, tCD, wCD))\n",
    "tDE = (tD+tE)/2\n",
    "wDE = sDE*tDE/t0\n",
    "print('Zone DE: s = %.1f mm, t = %.3f mm --> initial length = %.1f mm' % (sDE, tDE, wDE))\n",
    "tEF = (tE+tF)/2\n",
    "wEF = sEF*tEF/t0\n",
    "print('Zone EF: s = %.1f mm, t = %.3f mm --> initial length = %.1f mm' % (sEF, tEF, wEF))\n",
    "w0 = wOA + wAB + wBC + wCD + wDE + wEF\n",
    "print('Original semi-blank width, w0 = %.0f mm ' % w0)\n",
    "e_average = math.log(s_total/w0)\n",
    "print('Overall average strain = %.3f' % e_average)"
   ]
  },
  {
   "cell_type": "markdown",
   "metadata": {},
   "source": [
    "#### Sheet instability: localized necking\n",
    "\n",
    "From:\n",
    "$$\n",
    "T_{1} = K \\varepsilon_{1}^n \\cdot t_0 \\exp{(-\\varepsilon_{1})}\n",
    "$$\n",
    "one obtains:\n",
    "$$\n",
    "dT_{1} = 0 \\quad\\rightarrow\\quad \\varepsilon_{1}=n\n",
    "$$\n",
    "\n",
    "The ultimate side-wall tension can be obtained from:\n",
    "$$\n",
    "T_{1,\\max} = K n^n \\cdot t_0 e^{-n}\n",
    "$$"
   ]
  },
  {
   "cell_type": "code",
   "execution_count": 13,
   "metadata": {},
   "outputs": [
    {
     "data": {
      "image/png": "[encoded data removed]",
      "text/plain": [
       "<Figure size 432x288 with 1 Axes>"
      ]
     },
     "metadata": {
      "needs_background": "light"
     },
     "output_type": "display_data"
    },
    {
     "name": "stdout",
     "output_type": "stream",
     "text": [
      "Ultimate side-wall tension at e1 = n = 0.23 --> T1 = 340.0 kN/m\n",
      "Maximum tension, zone BC: e1 = 0.071, T1 = 304.1 kN/m\n"
     ]
    }
   ],
   "source": [
    "T1max = funcT1(n)\n",
    "\n",
    "fig, ax = plt.subplots()\n",
    "x = [i/100 for i in range(100)]\n",
    "y = [funcT1(i) for i in x]\n",
    "ax.axvline(x=n, color='grey', linestyle=':')\n",
    "ax.axhline(y=T1max, color='red', linestyle='-', label='Tension at necking')\n",
    "ax.plot(x, y, 'b-')\n",
    "ax.plot(e1B, T1B, 'ro', label='Maximum tension, zone BC')\n",
    "ax.plot(e1O, T1O, 'go', label='Centre-line, point O')\n",
    "ax.set_xlabel(r'Strain, $\\varepsilon_1$')\n",
    "ax.set_ylabel(r'Tension, $T_1$')\n",
    "plt.legend()\n",
    "plt.show()\n",
    "print('Ultimate side-wall tension at e1 = n = %s --> T1 = %0.1f kN/m' % (n, T1max))\n",
    "print('Maximum tension, zone BC: e1 = %0.3f, T1 = %0.1f kN/m' % (e1B, T1B))"
   ]
  },
  {
   "cell_type": "markdown",
   "metadata": {},
   "source": [
    "#### Maximum centre-line strain\n",
    "\n",
    "The tension at the centre-line is obtained from:\n",
    "$$\n",
    "T_{1,\\text{B}} = K n^n \\cdot t_0 e^{-n} \\quad\\rightarrow\\quad\n",
    "T_{1,\\text{O}} = T_{1,\\text{B}}\\exp{(-\\mu\\theta_{\\text{OB}})} = T_{1,\\text{B}}\\exp{(-\\mu\\pi/2)}\n",
    "$$\n",
    "\n",
    "and the strain from:\n",
    "$$\n",
    "T_{1,\\text{O}} = K (\\varepsilon_{1,\\text{O}})^n \\cdot t_0 \\exp{(-\\varepsilon_{1\\text{O}})} \\quad\\rightarrow\\quad \\varepsilon_{1,\\text{O}} \\\\\n",
    "$$\n"
   ]
  },
  {
   "cell_type": "code",
   "execution_count": 14,
   "metadata": {},
   "outputs": [
    {
     "name": "stdout",
     "output_type": "stream",
     "text": [
      "T1max = 340.0 MPa --> T1Omax = 290.6 MPa\n",
      "e1Omax = 0.054\n"
     ]
    }
   ],
   "source": [
    "T1Omax = T1max*math.exp(-mu*3.1416/2)\n",
    "print('T1max = %.1f MPa --> T1Omax = %.1f MPa' % (T1max, T1Omax))\n",
    "\n",
    "funcO = lambda x : T1Omax - funcT1(x)\n",
    "e1Omax = fsolve(funcO, e1O)\n",
    "print('e1Omax = %.3f' % e1Omax)\n"
   ]
  },
  {
   "cell_type": "code",
   "execution_count": 15,
   "metadata": {},
   "outputs": [
    {
     "data": {
      "image/png": "[encoded data removed]",
      "text/plain": [
       "<Figure size 432x288 with 1 Axes>"
      ]
     },
     "metadata": {
      "needs_background": "light"
     },
     "output_type": "display_data"
    },
    {
     "name": "stdout",
     "output_type": "stream",
     "text": [
      "Ultimate side-wall tension at e1 = n = 0.23 --> T1 = 340.0 kN/m\n",
      "Maximum tension, zone BC: e1 = 0.071, T1 = 304.1 kN/m\n"
     ]
    }
   ],
   "source": [
    "fig, ax = plt.subplots()\n",
    "x = [i/100 for i in range(100)]\n",
    "y = [funcT1(i) for i in x]\n",
    "ax.axvline(x=n, color='grey', linestyle=':')\n",
    "ax.axhline(y=T1max, color='red', linestyle='-', label='Tension at necking')\n",
    "ax.plot(x, y, 'b-')\n",
    "ax.plot(n, T1max, 'ro', label='Maximum tension, zone BC')\n",
    "ax.plot(e1Omax, T1Omax, 'go', label='Centre-line, point O')\n",
    "ax.set_xlabel(r'Strain, $\\varepsilon_1$')\n",
    "ax.set_ylabel(r'Tension, $T_1$')\n",
    "plt.legend()\n",
    "plt.show()\n",
    "print('Ultimate side-wall tension at e1 = n = %s --> T1 = %0.1f kN/m' % (n, T1max))\n",
    "print('Maximum tension, zone BC: e1 = %0.3f, T1 = %0.1f kN/m' % (e1B, T1B))"
   ]
  },
  {
   "cell_type": "code",
   "execution_count": null,
   "metadata": {},
   "outputs": [],
   "source": []
  }
 ],
 "metadata": {
  "kernelspec": {
   "display_name": "Python 3 (ipykernel)",
   "language": "python",
   "name": "python3"
  },
  "language_info": {
   "codemirror_mode": {
    "name": "ipython",
    "version": 3
   },
   "file_extension": ".py",
   "mimetype": "text/x-python",
   "name": "python",
   "nbconvert_exporter": "python",
   "pygments_lexer": "ipython3",
   "version": "3.9.7"
  }
 },
 "nbformat": 4,
 "nbformat_minor": 4
}
