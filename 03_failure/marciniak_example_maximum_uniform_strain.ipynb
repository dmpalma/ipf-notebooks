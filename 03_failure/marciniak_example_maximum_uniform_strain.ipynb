{
 "cells": [
  {
   "cell_type": "markdown",
   "id": "f21cb73a-0e96-4a9d-b58f-1dbed589fe1b",
   "metadata": {},
   "source": [
    "## Marciniak, Duncan, and Hu (2002): Mechanics of Sheet Metal Forming.\n",
    "### (Worked example) maximum uniform strain\n",
    "\n",
    "<img src=\"marciniak_example_maximum_uniform_strain.png\" alt=\"Stamping\" width=\"300\"/>\n",
    "\n",
    "\n",
    "The length, width and thickness of the parallel reduced section of a tensile test-piece are\n",
    "$l_0=100$, $w_0=12.5$ and $t_0=0.8$ mm respectively. The material has a stress-strain curve ﬁtted by the relation $\\sigma_1 = 700 \\, \\varepsilon_1^{0.22}$ MPa. Over a small length, the width is $\\Delta w_0 = 0.05$ mm less than elsewhere.\n",
    "\n",
    "Estimate the strain in the uniform region ($\\varepsilon_u$) of the test-piece after the strip has been tested\n",
    "to failure.\n",
    "\n",
    "### Solution\n",
    "\n",
    "Known data:"
   ]
  },
  {
   "cell_type": "code",
   "execution_count": 1,
   "id": "c55e602c-bd71-4327-bd22-aa6ffb7bdaed",
   "metadata": {},
   "outputs": [
    {
     "name": "stdout",
     "output_type": "stream",
     "text": [
      "Width in a small length of the piece: 12.45 mm\n"
     ]
    }
   ],
   "source": [
    "# initial dimensions of the piece\n",
    "L0 = 100\n",
    "w0 = 12.5\n",
    "t0 = 0.8\n",
    "\n",
    "# stress-strain curve\n",
    "K = 700\n",
    "n = 0.22\n",
    "\n",
    "# reduced width in a small length of the piece\n",
    "Δw = -0.05\n",
    "w0p = w0 + Δw\n",
    "\n",
    "print('Width in a small length of the piece: %s mm' % w0p)"
   ]
  },
  {
   "cell_type": "markdown",
   "id": "87d9ec5f-a4b4-4f16-978d-99cb5a4ecead",
   "metadata": {},
   "source": [
    "If the imperfection did not exist, the uniform strain would be $\\varepsilon_u = n = 0.22$.\n",
    "\n",
    "If the imperfection exists, the uniform strain can be determined using the equation:\n",
    "\n",
    "$$n-\\varepsilon_u \\approx \\sqrt{-n\\dfrac{\\Delta A_0}{A_0}} $$\n",
    "\n",
    "where $A_0 = w_0 \\, t_0$ and $\\Delta A_0 = \\Delta w_0 \\, t_0$.\n"
   ]
  },
  {
   "cell_type": "code",
   "execution_count": 2,
   "id": "a35d6dee-87a6-4eef-a383-41c6a8b88a42",
   "metadata": {},
   "outputs": [
    {
     "name": "stdout",
     "output_type": "stream",
     "text": [
      "A0 = 10.0 mm2, ΔA0 = -0.04 mm2 --> imperfection ratio, ΔA0/A0 = -0.004\n",
      "Substituting in the equation --> uniform strain, εu = 0.190\n"
     ]
    }
   ],
   "source": [
    "A0 = w0*t0\n",
    "ΔA0 = Δw*t0\n",
    "print('A0 = %s mm2, ΔA0 = %.2f mm2 --> imperfection ratio, ΔA0/A0 = %.3f' \n",
    "      % (A0, ΔA0, ΔA0/A0))\n",
    "\n",
    "import math\n",
    "εu_ = n - math.sqrt(-n*ΔA0/A0)\n",
    "print('Substituting in the equation --> uniform strain, εu = %.3f' % εu_)"
   ]
  },
  {
   "cell_type": "markdown",
   "id": "b45011d9-97e6-43ab-86cf-f3d69d777f98",
   "metadata": {},
   "source": [
    "As Marciniak states (page 66):\n",
    "``This demonstrates a phenomenon often observed in sheet metal forming: very small changes in initial conditions (in this example, an imperfection ratio of only 0.4\\%) can give large changes in the ﬁnal result ($n-\\varepsilon_u = 0.03$). It is also found that if repeated tests are performed on apparently uniform material, there is considerable scatter in the observed maximum uniform strain. This is probably due to differences in the magnitude of imperfections that exist in individual test-pieces.''\n",
    "\n",
    "## Load-elongation diagram: numerical solution\n",
    "\n",
    "If the imperfection did not exist, the load path would be obtained from:\n",
    "\n",
    "$$ F = \\sigma_1 \\, A = K \\, \\varepsilon_1^n \\cdot A_0 \\, e^{-\\varepsilon_1} $$\n",
    "\n",
    "If the imperfection exists, the load path can be obtained numerically by iterative calculation."
   ]
  },
  {
   "cell_type": "code",
   "execution_count": 3,
   "id": "c772965b-e103-4938-9663-a4964d27c6d6",
   "metadata": {},
   "outputs": [
    {
     "name": "stdout",
     "output_type": "stream",
     "text": [
      "Let assume an initial yield stress Y = 178.4 MPa (at 0.2% elongation).\n",
      "Total lenght = 100 mm = 12.5 mm (imperfect region) + 87.5 mm (perfect region)\n",
      "Strain at the onset of necking: ε = n = 0.22 --> elongation, e = 0.246\n",
      "Uniform strain (approximate value): εu = 0.190 --> uniform elongation, eu = 0.210\n",
      "Uniform elongation: eu = 0.2040 (aproximation: 0.2097)\n"
     ]
    },
    {
     "name": "stderr",
     "output_type": "stream",
     "text": [
      "/tmp/ipykernel_76834/1383993952.py:33: RuntimeWarning: invalid value encountered in power\n",
      "  Fpx = lambda ε1x: F[i] - K*ε1x**n * A0*math.exp(-ε1x)\n",
      "/home/domi/.local/lib/python3.10/site-packages/scipy/optimize/_minpack_py.py:175: RuntimeWarning: The iteration is not making good progress, as measured by the \n",
      "  improvement from the last ten iterations.\n",
      "  warnings.warn(msg, RuntimeWarning)\n"
     ]
    },
    {
     "data": {
      "image/png": "[encoded data removed]",
      "text/plain": [
       "<Figure size 432x432 with 1 Axes>"
      ]
     },
     "metadata": {
      "needs_background": "light"
     },
     "output_type": "display_data"
    }
   ],
   "source": [
    "Y = K*0.002**n\n",
    "print('Let assume an initial yield stress Y = %.1f MPa (at 0.2%% elongation).' % Y)\n",
    "\n",
    "l0p = w0 # lenght of the imperfect region: diffuse neck extends for \n",
    "         # a distance approximately equal to the width of the strip\n",
    "l0 = L0 - l0p # lenght of the perfect region\n",
    "A0p = A0 + ΔA0\n",
    "print('Total lenght = %s mm = %s mm (imperfect region) \\\n",
    "+ %s mm (perfect region)' % (L0, l0p, l0))\n",
    "\n",
    "eu_ = math.exp(εu_) - 1\n",
    "n_ = math.exp(n) - 1\n",
    "print('Strain at the onset of necking: ε = n = %s --> \\\n",
    "elongation, e = %.3f' % (n, n_))\n",
    "print('Uniform strain (approximate value): εu = %.3f --> \\\n",
    "uniform elongation, eu = %.3f' % (εu_, eu_))\n",
    "\n",
    "# iterative calculation\n",
    "from scipy.optimize import fsolve\n",
    "\n",
    "ε1p, σ1p, Ap, lp = [0], [Y], [A0p], [l0p]\n",
    "ε1, σ1, A, l = [0], [Y], [A0], [l0]\n",
    "L, e1t, ε1t, F = [L0], [0], [0], [Y*A0p]\n",
    "Δε1p = 0.002\n",
    "i = 0\n",
    "while ε1p[i] < 1.2:\n",
    "    i = i+1\n",
    "    ε1p.append(ε1p[i-1] + Δε1p)\n",
    "    σ1p.append(K*ε1p[i]**n)\n",
    "    Ap.append(A0p*math.exp(-ε1p[i]))\n",
    "    lp.append(l0p*A0p/Ap[i])\n",
    "    F.append(σ1p[i]*Ap[i])\n",
    "    Fpx = lambda ε1x: F[i] - K*ε1x**n * A0*math.exp(-ε1x)\n",
    "    ε1x, = fsolve(Fpx, ε1[i-1])\n",
    "    if ε1x < ε1[i-1]: # maximum force was reached in the neck\n",
    "        ε1x = ε1[i-1] # no more plastic strain in the uniform region\n",
    "    ε1.append(ε1x)\n",
    "    σ1.append(K*ε1[i]**n)\n",
    "    A.append(A0*math.exp(-ε1[i]))\n",
    "    l.append(l0*A0/A[i])\n",
    "    L.append(l[i] + lp[i])\n",
    "    e1t.append((L[i] - L0) / L0)\n",
    "    ε1t.append(math.log(L[i]/L0))\n",
    "\n",
    "# plot diagram\n",
    "F_ = [K*ε1x**n * A0*math.exp(-ε1x) for ε1x in ε1t]\n",
    "F_[0] = Y*A0\n",
    "F_max = max(F_)\n",
    "Fmax = max(F)\n",
    "idx_eu = F.index(Fmax)\n",
    "eu = e1t[idx_eu]\n",
    "print('Uniform elongation: eu = %.4f (aproximation: %.4f)' % (eu, eu_))\n",
    "    \n",
    "import matplotlib.pyplot as plt\n",
    "fig, ax = plt.subplots(figsize=(6,6))\n",
    "ax.plot(e1t, F_, color='blue', label='Perfect strip: $e=%.3f$' % n_)\n",
    "ax.plot(e1t, F, color='red', label='Real test-piece: $e_u=%.3f$' % eu)\n",
    "ax.plot((n_,n_), (0,F_max), 'k', lw=0.2)\n",
    "ax.plot((eu,eu), (0,Fmax), 'k', lw=0.2)\n",
    "ax.axis([0, 0.5, 0, Fmax+500])\n",
    "ax.set_xlabel(r'Total elongation of the strip, $e=\\dfrac{l-l_0}{l_0}$')\n",
    "ax.set_ylabel(r'Load, $F$')\n",
    "plt.title('Load extension diagram for a strip')\n",
    "plt.legend()\n",
    "plt.show()    "
   ]
  },
  {
   "cell_type": "markdown",
   "id": "237d8543-a678-475a-8a0a-0ad04a8f513a",
   "metadata": {},
   "source": [
    "### Strains in the perfect and imperfect regions"
   ]
  },
  {
   "cell_type": "code",
   "execution_count": 5,
   "id": "598be19b-cf5f-4e06-8ba5-a0e4c59e2ead",
   "metadata": {},
   "outputs": [
    {
     "data": {
      "image/png": "[encoded data removed]",
      "text/plain": [
       "<Figure size 432x432 with 1 Axes>"
      ]
     },
     "metadata": {
      "needs_background": "light"
     },
     "output_type": "display_data"
    }
   ],
   "source": [
    "x = [i for i in range(len(ε1p))]\n",
    "fig, ax = plt.subplots(figsize=(6,6))\n",
    "ax.plot(x, ε1p, ':', color='red', label='Imperfect region')\n",
    "ax.plot(x, ε1, '--', color='blue', label='Perfect region')\n",
    "#ax.plot(x, ε1t, color='green')\n",
    "#ax.axis([0, 0.5, 0, Fmax+500])\n",
    "ax.set_xlabel(r'Step (iterative calculation)')\n",
    "ax.set_ylabel(r'True strain, $\\varepsilon_1$')\n",
    "plt.title('Load extension diagram for a strip')\n",
    "plt.legend()\n",
    "plt.show()    "
   ]
  },
  {
   "cell_type": "code",
   "execution_count": null,
   "id": "e6212bd9-c2d5-455d-85e4-129fff2a78b2",
   "metadata": {},
   "outputs": [],
   "source": []
  }
 ],
 "metadata": {
  "kernelspec": {
   "display_name": "Python 3 (ipykernel)",
   "language": "python",
   "name": "python3"
  },
  "language_info": {
   "codemirror_mode": {
    "name": "ipython",
    "version": 3
   },
   "file_extension": ".py",
   "mimetype": "text/x-python",
   "name": "python",
   "nbconvert_exporter": "python",
   "pygments_lexer": "ipython3",
   "version": "3.10.8"
  }
 },
 "nbformat": 4,
 "nbformat_minor": 5
}
