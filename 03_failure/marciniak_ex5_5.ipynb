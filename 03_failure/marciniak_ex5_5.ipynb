{
 "cells": [
  {
   "cell_type": "markdown",
   "metadata": {},
   "source": [
    "## Marciniak, Duncan, and Hu (2002): _Mechanics of Sheet Metal Forming_.\n",
    "### Exercise 5.5.\n",
    "\n",
    "An element of material has an imperfection characterized by $f_0 = 0.995$ as\n",
    "shown in Figure. It is deformed in equal biaxial tension, $\\sigma_{1a} = \\sigma_{2a}$. The material\n",
    "obeys an effective stress strain law $\\overline\\sigma = 600 (0.004 + \\overline\\varepsilon)^{0.2}$ MPa. Determine the principal\n",
    "stresses and the stress ratio in the groove when the uniform region starts to deform.\n",
    "\n",
    "<img src=\"marciniak_ex5_5.png\" alt=\"An imperfection B in a uniform region A of a sheet deforming in biaxial strain\" width=\"320\"/>\n",
    "\n",
    "Figure. An imperfection B in a uniform region A of a sheet deforming in biaxial strain.\n",
    "\n",
    "\n",
    "### Solutions\n",
    "\n",
    "When the uniform region starts to deform, the strains in that zone are still zero. Therefore, the initial yielding conditions for the uniform region A and the imperfection B is given by:\n",
    "$$\n",
    "\\overline\\sigma = K \\varepsilon_0^n\n",
    "$$\n",
    "\n",
    "In zone A, the principal stresses are found from:\n",
    "$$\n",
    "\\alpha_0 = 1 \\quad\\rightarrow\\quad\n",
    "\\sigma_{1,\\text{A}} = \\sigma_{2,\\text{A}} = \\overline\\sigma = K \\varepsilon_0^n\n",
    "$$\n",
    "\n",
    "The major stress in B is given by:\n",
    "$$\n",
    "\\sigma_{1,\\text{B}} = \\frac{\\sigma_{1,\\text{A}}}{f_0} = \\frac{K \\varepsilon_0^n}{f_0}\n",
    "$$\n",
    "\n",
    "The stress ratio in B can be found from:\n",
    "$$\n",
    "\\overline\\sigma = \\sigma_{1,\\text{B}} \\sqrt{1-\\alpha_B+\\alpha_B^2}\n",
    "\\quad\\rightarrow\\quad\n",
    "\\alpha_B = \\frac{1 + \\sqrt{1 - 4(1 - (\\overline\\sigma/\\sigma_{1,\\text{B}})^2)}}{2}\n",
    "$$\n",
    "and the minor stress as $\\sigma_{2,\\text{B}} = \\alpha_B \\sigma_{1,\\text{B}}$.\n",
    "\n",
    "Execute the cell below to perform the calculations."
   ]
  },
  {
   "cell_type": "code",
   "execution_count": 1,
   "metadata": {},
   "outputs": [
    {
     "name": "stdout",
     "output_type": "stream",
     "text": [
      "Effective stress: s = 198.9 MPa\n",
      "Stresses in A: s1,A = s2,A = 198.9 MPa\n",
      "Major stress in B: s1,B = 199.9 MPa\n",
      "Stress ratio in B: alphaB = 0.990 MPa\n",
      "Minor stress in B: s2,B = 197.9 MPa\n"
     ]
    }
   ],
   "source": [
    "import math\n",
    "\n",
    "f0 = 0.995\n",
    "s = 600*0.004**0.2\n",
    "print('Effective stress: s = %0.1f MPa' % s)\n",
    "\n",
    "s1A = s # balanced-biaxial stress, alpha = 1\n",
    "print('Stresses in A: s1,A = s2,A = %0.1f MPa' % s1A)\n",
    "\n",
    "s1B = s1A / f0\n",
    "print('Major stress in B: s1,B = %0.1f MPa' % s1B)\n",
    "\n",
    "alphaB = (1 + math.sqrt(1-4*(1-(s/s1B)**2)))/2\n",
    "print('Stress ratio in B: alphaB = %0.3f MPa' % alphaB)\n",
    "\n",
    "s2B = alphaB*s1B\n",
    "print('Minor stress in B: s2,B = %0.1f MPa' % s2B)"
   ]
  },
  {
   "cell_type": "code",
   "execution_count": null,
   "metadata": {},
   "outputs": [],
   "source": []
  }
 ],
 "metadata": {
  "kernelspec": {
   "display_name": "Python 3 (ipykernel)",
   "language": "python",
   "name": "python3"
  },
  "language_info": {
   "codemirror_mode": {
    "name": "ipython",
    "version": 3
   },
   "file_extension": ".py",
   "mimetype": "text/x-python",
   "name": "python",
   "nbconvert_exporter": "python",
   "pygments_lexer": "ipython3",
   "version": "3.9.7"
  }
 },
 "nbformat": 4,
 "nbformat_minor": 4
}
