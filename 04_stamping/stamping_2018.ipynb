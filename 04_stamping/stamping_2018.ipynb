{
 "cells": [
  {
   "cell_type": "markdown",
   "metadata": {},
   "source": [
    "## Procesos de Fabricación Aeronáutica - Máster Universitario en Ingeniería Aeronáutica\n",
    "### Problema de estampación, examen 13/12/2018\n",
    "\n",
    "<img src=\"Fig4.2.png\" alt=\"Stamping\" width=\"400\"/>\n",
    "\n",
    "<img src=\"Fig4.3.png\" alt=\"Stamping\" width=\"600\"/>\n",
    "\n",
    "Mediante conformado de chapa por estirado se pretende realizar un componente como el mostrado en la figura pero con la pared BC vertical. La chapa es de AA2024-T3 de 1.2 mm de espesor. La ley de comportamiento del material viene dada por $\\sigma_1 = 814.04 (0.025+\\varepsilon_1)^{0.245} \\text{ MPa}$. Las dimensiones del componente son: $a = 330$ mm, $c = 0$ (pared BC vertical), $R_F = 2800$ mm, $R_P = R_D = 10$ mm, BC = 28 mm, DE = 0 mm, EF = 80 mm y FG = 0 mm. Asumiendo hipótesis de deformación plana se pide:\n",
    "1. Sabiendo que en un instante la deformación principal máxima en el punto O es de $\\varepsilon_{1,\\text{O}}=0.03$ y el coeficiente de fricción es $\\mu = 0.1$, estimar la mínima fuerza $B$ del prensa-chapa.\n",
    "2. Si en un determinado instante la chapa estuviese a punto de fallar, estimar la fuerza del punzón $F$ y la deformación en el punto O ($\\varepsilon_{1,\\text{O}}$).\n",
    "\n",
    "\n",
    "### Notas\n",
    "\n",
    "- El enunciado dice \"estirado\" pero se trata de un proceso de estampación. \n",
    "- En el enunciado se dice que $c = 0$  (pared BC vertical). Sin embargo, debe existir una holgura entre punzón y matriz de al menos el espesor de la chapa, $c \\ge t_0 = 1.2$ mm. En cualquier caso, el valor de $c$ no es relevante para la resolución del problema.\n",
    "- Se pide la \"mínima\" fuerza del prensa-chapa. En realidad, no hay una fuerza $B$ mínima ni máxima sino la que requiere el proceso para producir la pieza con la geometría dada y con la deformación especificada en el punto O.\n",
    "\n",
    "### Solución\n",
    "\n",
    "Los datos del problema son los siguientes:"
   ]
  },
  {
   "cell_type": "code",
   "execution_count": 1,
   "metadata": {},
   "outputs": [],
   "source": [
    "import math\n",
    "\n",
    "t0 = 1.2\n",
    "K = 814.04\n",
    "e0 = 0.025\n",
    "n = 0.245\n",
    "s1 = lambda e1: K*(e0+e1)**n    # comportamiento del material en función de e1\n",
    "a = 330\n",
    "c = 0\n",
    "Rf = 2800\n",
    "Rp = 10\n",
    "Rd = 10\n",
    "sBC = 28\n",
    "sDE = 0\n",
    "sEF = 80\n",
    "sFG = 0\n",
    "e1O = 0.03\n",
    "mu = 0.1"
   ]
  },
  {
   "cell_type": "markdown",
   "metadata": {},
   "source": [
    "El cálculo del espesor de la chapa y de la fuerza por unidad de longitud se pueden definir en función de la deformación como:\n",
    "$$\n",
    "\\begin{aligned}\n",
    "t = & t_0 \\exp{(-\\varepsilon_1)} \\\\\n",
    "T_{1} = & {\\sigma_{1} t} = K (\\varepsilon_{1})^n \\cdot t_0 \\exp{(-\\varepsilon_{1})}\n",
    "\\end{aligned}\n",
    "$$\n",
    "\n",
    "Otra ecuación que va a utilizarse es la fuerza en un extremo k de un tramo curvo, en el que la chapa se desliza con rozamiento, en función de la fuerza en el otro extremo j y del ángulo del tramo:\n",
    "$$\n",
    "T_{1,\\text{k}} = T_{1,\\text{j}} \\exp{(\\mu \\, \\theta_\\text{jk})}\n",
    "$$"
   ]
  },
  {
   "cell_type": "code",
   "execution_count": 2,
   "metadata": {},
   "outputs": [],
   "source": [
    "# Defino funciones para esas 3 expresiones:\n",
    "t = lambda e1: t0*math.exp(-e1)\n",
    "T1 = lambda e1: s1(e1)*t(e1)\n",
    "T1k = lambda T1j, theta: T1j*math.exp(mu*theta)"
   ]
  },
  {
   "cell_type": "markdown",
   "metadata": {},
   "source": [
    "#### Fuerza $B$ del prensa-chapa\n",
    "\n",
    "La fuerza del prensa-chapa es la necesaria para que se produzca la deformación del enunciado, $\\varepsilon_{1O}=0.03$, cuando el punzón ha alcanzado la posición $h$. Aunque no es necesario calcularla, $h$ se obtiene sabiendo que al ser la pared BC vertical, los tramos AB y CD son de $90°$:\n",
    "$$\n",
    "h = (R_f - \\sqrt{R_f^2 - a^2}) + R_p + s_\\text{BC} + R_d\n",
    "$$"
   ]
  },
  {
   "cell_type": "code",
   "execution_count": 3,
   "metadata": {},
   "outputs": [
    {
     "name": "stdout",
     "output_type": "stream",
     "text": [
      "h = 67.5 mm\n"
     ]
    }
   ],
   "source": [
    "h = Rf - math.sqrt(Rf**2 - a**2) + Rp + sBC + Rd\n",
    "print('h = %.1f mm' % h)"
   ]
  },
  {
   "cell_type": "markdown",
   "metadata": {},
   "source": [
    "La fuerza del prensa-chapa se obtiene entonces del equilibrio con la fuerza (por unidad de longitud) en el punto E:\n",
    "$$\n",
    "B = \\frac{T_{1,\\text{E}}}{2\\mu}\n",
    "$$\n",
    "donde $T_{1,\\text{E}}$ habrá que calcularla a partir de la fuerza en O que sí puede calcularse:\n",
    "$$\n",
    "T_{1,\\text{O}} = {[\\sigma_{1} t]}_O = K (\\varepsilon_{1,\\text{O}})^n \\cdot t_0 \\exp{(-\\varepsilon_{1,\\text{O}})}\n",
    "$$"
   ]
  },
  {
   "cell_type": "code",
   "execution_count": 4,
   "metadata": {},
   "outputs": [
    {
     "name": "stdout",
     "output_type": "stream",
     "text": [
      "Punto O: s1 = 400.0 MPa, t = 1.165 mm --> T1 = 466 kN/m\n"
     ]
    }
   ],
   "source": [
    "s1O = s1(e1O)\n",
    "tO  = t(e1O)\n",
    "T1O = T1(e1O)\n",
    "print('Punto O: s1 = %0.1f MPa, t = %0.3f mm --> T1 = %0.0f kN/m' % (s1O, tO, T1O))"
   ]
  },
  {
   "cell_type": "markdown",
   "metadata": {},
   "source": [
    "Conocida la fuerza en O, la fuerza en los extremos de los tramos OB, BC, CD y DE se puede calcular como:\n",
    "$$\n",
    "\\begin{aligned}\n",
    "T_{1,\\text{B}} = & T_{1,\\text{O}} \\exp (\\mu\\,\\theta_\\text{OB}) = T_{1,\\text{O}} \\, e^{\\mu\\,\\pi/2} \\\\\n",
    "T_{1,\\text{C}} = & T_{1,\\text{B}} \\\\\n",
    "T_{1,\\text{D}} = & T_{1,\\text{C}}  \\exp (\\mu\\,\\theta_\\text{CD}) = T_{1,\\text{C}} \\, e^{-\\mu\\,\\pi/2} \\\\\n",
    "T_{1,\\text{E}} = & T_{1,\\text{D}}\n",
    "\\end{aligned}\n",
    "$$\n",
    "Sustituyendo, la fuerza en E vendrá cada por:\n",
    "$$\n",
    "\\begin{aligned}\n",
    "T_{1,\\text{E}} = & T_{1,\\text{D}} = \\\\\n",
    "= & T_{1,\\text{C}} \\, e^{-\\mu\\,\\pi/2} = \\\\\n",
    "= & T_{1,\\text{B}} \\, e^{-\\mu\\,\\pi/2} = \\\\\n",
    "= & T_{1,\\text{O}} \\, e^{\\mu\\,\\pi/2} \\cdot e^{-\\mu\\,\\pi/2} = \\\\\n",
    "= & T_{1,\\text{O}}\n",
    "\\end{aligned}\n",
    "$$\n",
    "La relación $T_{1,\\text{E}}=T_{1,\\text{O}}$ era predecible sabiendo que la chapa en ambos puntos es horizontal."
   ]
  },
  {
   "cell_type": "code",
   "execution_count": 5,
   "metadata": {},
   "outputs": [
    {
     "name": "stdout",
     "output_type": "stream",
     "text": [
      "Punto E: T1 = 466 kN/m\n",
      "Fuerza del prensa-chapa: B = 2329 kN/m\n"
     ]
    }
   ],
   "source": [
    "T1E = T1O\n",
    "print('Punto E: T1 = %.0f kN/m' % T1E)\n",
    "B = T1E/(2*mu)\n",
    "print('Fuerza del prensa-chapa: B = %.0f kN/m' % B)"
   ]
  },
  {
   "cell_type": "markdown",
   "metadata": {},
   "source": [
    "#### Fuerza máxima del punzón y deformación correspondiente en el punto O\n",
    "\n",
    "La chapa fallará por estricción localizada cuando se alcance un máximo en la fuerza:\n",
    "$$\n",
    "dT_1 = \\sigma_1 dt + t d\\sigma_1 = 0 \\quad\\rightarrow\\quad\n",
    "\\frac{d\\sigma_1}{\\sigma_1} = -\\frac{dt}{t} = -d\\varepsilon_3 = (1+\\beta)d\\varepsilon_1 \\quad\\rightarrow\\quad\n",
    "\\frac{1}{\\sigma_1}\\frac{d\\sigma_1}{d\\varepsilon_1} = 1 + \\beta\n",
    "$$\n",
    "\n",
    "Para el AA2024-T3 ($K=814.04$ MPa, $\\varepsilon_0=0.025$, $n=0.245$):\n",
    "$$\n",
    "\\begin{aligned}\n",
    "\\sigma_1 = & K (\\varepsilon_0+\\varepsilon_1)^{n} \\\\\n",
    "\\frac{d\\sigma_1}{d\\varepsilon_1} = & K \\, n (\\varepsilon_0+\\varepsilon_1)^{n-1} \\\\\n",
    "\\frac{1}{\\sigma_1}\\frac{d\\sigma_1}{d\\varepsilon_1} = & \\frac{n}{\\varepsilon_0+\\varepsilon_1} = 1 + \\beta\n",
    "\\end{aligned}\n",
    "$$\n",
    "Sustituyendo y teniendo en cuenta la condición de deformación plana ($\\beta=0$):\n",
    "$$\n",
    "\\varepsilon_1 = \\frac{1+\\beta}{n} - \\varepsilon_0 = n - \\varepsilon_0\n",
    "$$\n",
    "\n",
    "La fuerza máxima vendrá dada por:\n",
    "$$\n",
    "T_{1,\\max} = K \\, n^n \\cdot t_0 e^{-(n-\\varepsilon_0)}\n",
    "$$"
   ]
  },
  {
   "cell_type": "code",
   "execution_count": 10,
   "metadata": {},
   "outputs": [
    {
     "name": "stdout",
     "output_type": "stream",
     "text": [
      "T1max = 555 kN/m (calculada con la expresión anterior)\n",
      "T1max = 555 kN/m (calculada con la función T1 definida más arriba)\n"
     ]
    }
   ],
   "source": [
    "T1max = K*n**n * t0*math.exp(-(n-e0))\n",
    "print('T1max = %.0f kN/m (calculada con la expresión anterior)' % T1max)\n",
    "\n",
    "T1max = T1(n-e0)\n",
    "print('T1max = %.0f kN/m (calculada con la función T1 definida más arriba)' % T1max)"
   ]
  },
  {
   "cell_type": "markdown",
   "metadata": {},
   "source": [
    "La máxima deformación y la máxima fuerza se producen en el tramo vertical BC, donde no hay contacto con las herramientas. Tomando como referencia el punto B, la fuerza del punzón vendrá dada por: \n",
    "$$\n",
    "T_{1,\\text{B}} = T_{1,\\max} \\quad\\rightarrow\\quad\n",
    "F_{\\max} = 2 \\, T_{1,\\max} \\sin{\\pi/2} = 2 \\, T_{1,\\max}\n",
    "$$"
   ]
  },
  {
   "cell_type": "code",
   "execution_count": 12,
   "metadata": {},
   "outputs": [
    {
     "name": "stdout",
     "output_type": "stream",
     "text": [
      "Fmax = 1111 kN/m\n"
     ]
    }
   ],
   "source": [
    "F = 2*T1max\n",
    "print('Fmax = %.0f kN/m' % F)"
   ]
  },
  {
   "cell_type": "markdown",
   "metadata": {},
   "source": [
    "Por otro lado, la fuerza en O vendrá dada por: \n",
    "$$\n",
    "T_{1,\\text{B}} = T_{1,\\max} \\quad\\rightarrow\\quad\n",
    "T_{1,\\text{O}} = T_{1,\\max} \\, e^{-\\mu\\pi/2}\n",
    "$$"
   ]
  },
  {
   "cell_type": "code",
   "execution_count": 17,
   "metadata": {},
   "outputs": [
    {
     "name": "stdout",
     "output_type": "stream",
     "text": [
      "Fuerza máxima en O: T1Omax = 475 kN/m (calculada con la expresión anterior)\n",
      "Fuerza máxima en O: T1Omax = 475 kN/m (calculada con la función T1 definida más arriba)\n"
     ]
    }
   ],
   "source": [
    "T1Omax = T1max*math.exp(-mu*math.pi/2)\n",
    "print('Fuerza máxima en O: T1Omax = %.0f kN/m (calculada con la expresión anterior)' % T1Omax)\n",
    "\n",
    "T1Omax = T1k(T1max, -math.pi/2)\n",
    "print('Fuerza máxima en O: T1Omax = %.0f kN/m (calculada con la función T1 definida más arriba)' % T1Omax)"
   ]
  },
  {
   "cell_type": "markdown",
   "metadata": {},
   "source": [
    "Y la deformación en O se calcula entonces de la ecuación:\n",
    "$$\n",
    "T_{1,\\text{O}} = K (\\varepsilon_{1,\\text{O}})^n \\cdot t_0 \\exp{(-\\varepsilon_{1,\\text{O}})}\n",
    "$$\n",
    "Por ensayo y error, probando diferentes valores de $\\varepsilon_{1,\\text{O}}$ hasta alcanzar la fuerza máximo en O:"
   ]
  },
  {
   "cell_type": "code",
   "execution_count": 18,
   "metadata": {},
   "outputs": [
    {
     "name": "stdout",
     "output_type": "stream",
     "text": [
      "e1O = 0.03 --> T1O = 466 kN/m\n",
      "e1O = 0.04 --> T1O = 480 kN/m\n",
      "e1O = 0.035 --> T1O = 473 kN/m\n",
      "e1O = 0.036 --> T1O = 475 kN/m\n",
      "e1O = 0.0354 --> T1O = 474 kN/m\n",
      "Solución: e1O = 0.0354\n"
     ]
    }
   ],
   "source": [
    "x = e1O # empiezo con el valor del enunciado\n",
    "print('e1O = %s --> T1O = %.0f kN/m' % (x, T1(x)))\n",
    "x = 0.04\n",
    "print('e1O = %s --> T1O = %.0f kN/m' % (x, T1(x)))\n",
    "x = 0.035\n",
    "print('e1O = %s --> T1O = %.0f kN/m' % (x, T1(x)))\n",
    "x = 0.036\n",
    "print('e1O = %s --> T1O = %.0f kN/m' % (x, T1(x)))\n",
    "x = 0.0354\n",
    "print('e1O = %s --> T1O = %.0f kN/m' % (x, T1(x)))\n",
    "e1Omax = x\n",
    "print('Solución: e1O = %s' % (x))"
   ]
  },
  {
   "cell_type": "markdown",
   "metadata": {},
   "source": [
    "---\n",
    "\n",
    "### Cálculo completo del proceso de estampación\n",
    "\n",
    "Aunque en el enunciado del problema no se pide, a continuación se resuelve el proceso de estampación completo.\n",
    "\n",
    "#### Dimensiones de la pieza estampada\n",
    "\n",
    "- Zona OA:\n",
    "$\n",
    "(R_f-R_p)\\sin \\theta_\\text{OA} = a-R_p \\quad\\rightarrow\\quad\n",
    "\\theta_\\text{OA} = \\arcsin \\frac{a-R_p}{R_f-R_p} \\quad\\rightarrow\\quad\n",
    "s_\\text{OA} = R_f \\, \\theta_\\text{OA}\n",
    "$\n",
    "\n",
    "- Zona AB:\n",
    "$\n",
    "\\theta_\\text{OB} = \\pi/2  \\quad\\rightarrow\\quad\n",
    "\\theta_\\text{AB} = \\pi/2 - \\theta_\\text{OA} \\quad\\rightarrow\\quad\n",
    "s_\\text{AB} = R_p (\\pi/2 - \\theta_\\text{OA})\n",
    "$\n",
    "\n",
    "- Zona BC:\n",
    "$\n",
    "s_\\text{BC} = 28\\text{ mm}\n",
    "$\n",
    "\n",
    "- Zona CD:\n",
    "$\n",
    "\\theta_\\text{CD} = -\\theta_\\text{OB} = -\\pi/2  \\quad\\rightarrow\\quad\n",
    "s_\\text{CD} = R_d \\, |\\theta_\\text{CD}| = R_d \\, \\pi/2\n",
    "$\n",
    "\n",
    "- Zona DE:\n",
    "$\n",
    "s_\\text{DE} = 0\\text{ mm}\n",
    "$\n",
    "\n",
    "- Zona EF:\n",
    "$\n",
    "s_\\text{EF} = 80\\text{ mm}\n",
    "$\n",
    "\n"
   ]
  },
  {
   "cell_type": "code",
   "execution_count": 37,
   "metadata": {},
   "outputs": [
    {
     "name": "stdout",
     "output_type": "stream",
     "text": [
      "Zona OA: Rf = 2800 mm, theta = 0.115 rad (6.6°) --> s = 322 mm\n",
      "Zona AB: Rp = 10 mm, theta = 1.456 rad (83.4°) --> s = 15 mm\n",
      "Zona BC: s = 28 mm\n",
      "Zona CD: Rd = 10 mm, theta = -1.571 rad (-90.0°) --> s = 16 mm\n",
      "Zona DE: s = 0 mm\n",
      "Zona EF: s = 80 mm\n",
      "Longitud total: s = 460 mm\n"
     ]
    },
    {
     "data": {
      "image/png": "[encoded data removed]",
      "text/plain": [
       "<Figure size 1080x360 with 1 Axes>"
      ]
     },
     "metadata": {
      "needs_background": "light"
     },
     "output_type": "display_data"
    }
   ],
   "source": [
    "thetaOA = math.asin((a-Rp)/(Rf-Rp))\n",
    "sOA = Rf*thetaOA\n",
    "print('Zona OA: Rf = %s mm, theta = %0.3f rad (%0.1f°) --> s = %.0f mm' % (Rf, thetaOA, math.degrees(thetaOA), sOA))\n",
    "thetaOB = math.pi/2\n",
    "thetaAB = thetaOB - thetaOA\n",
    "sAB = Rp*thetaAB\n",
    "print('Zona AB: Rp = %s mm, theta = %0.3f rad (%0.1f°) --> s = %.0f mm' % (Rp, thetaAB, math.degrees(thetaAB), sAB))\n",
    "print('Zona BC: s = %s mm' % sBC)\n",
    "thetaCD = -thetaOB\n",
    "sCD = -Rd*thetaCD\n",
    "print('Zona CD: Rd = %s mm, theta = %0.3f rad (%0.1f°) --> s = %.0f mm' % (Rd, thetaCD, math.degrees(thetaCD), sCD))\n",
    "print('Zona DE: s = %s mm' % sDE)\n",
    "print('Zona EF: s = %s mm' % sEF)\n",
    "s_total = sOA+sAB+sBC+sCD+sDE+sEF\n",
    "print('Longitud total: s = %0.0f mm' % s_total)\n",
    "\n",
    "import matplotlib.pyplot as plt\n",
    "from matplotlib.path import Path\n",
    "import matplotlib.patches as patches\n",
    "\n",
    "punch_c1 = (0, Rf)\n",
    "punch_c2 = (a-Rp, Rf-(Rf-Rp)*math.cos(thetaOA))\n",
    "punch_edge = (a, punch_c2[1])\n",
    "die_edge = (punch_edge[0], punch_edge[1] + sBC)\n",
    "die_c = (die_edge[0] + Rd, die_edge[1])\n",
    "die_D = (die_c[0], die_c[1] + Rd)\n",
    "die_E = (die_D[0] + sDE, die_D[1])\n",
    "die_F = (die_E[0] + sEF, die_E[1])\n",
    "\n",
    "fig, ax = plt.subplots(figsize=(15,5))\n",
    "ax.add_patch(patches.Arc(punch_c1, 2*Rf, 2*Rf, angle = -90,\n",
    "             theta1=0, theta2=math.degrees(thetaOA), \n",
    "             edgecolor='b', lw=3))\n",
    "ax.add_patch(patches.Arc(punch_c2, 2*Rp, 2*Rp, angle = -90,\n",
    "             theta1=math.degrees(thetaOA), theta2=90, \n",
    "             edgecolor='b', lw=3))\n",
    "path = Path([punch_edge, die_edge,], [Path.MOVETO, Path.LINETO,])\n",
    "ax.add_patch(patches.PathPatch(path, edgecolor='b', lw=3))\n",
    "ax.add_patch(patches.Arc(die_c, 2*Rd, 2*Rd, angle = 90,\n",
    "             theta1=0, theta2=90, \n",
    "             edgecolor='b', lw=3))\n",
    "path = Path([die_D, die_E, die_F], [Path.MOVETO, Path.LINETO, Path.LINETO])\n",
    "ax.add_patch(patches.PathPatch(path, edgecolor='b', lw=3))\n",
    "\n",
    "ax.set_xlim(-10, die_F[0]+10)\n",
    "ax.set_ylim(-10, die_F[1]+10)\n",
    "ax.set_aspect(\"equal\")\n",
    "ax.set_xlabel(r'$x$ (mm)')\n",
    "ax.set_ylabel(r'$z$ (mm)')\n",
    "plt.title(\"Geometría de la chapa deformada\")\n",
    "plt.show()"
   ]
  },
  {
   "cell_type": "markdown",
   "metadata": {},
   "source": [
    "#### Fuerza a lo largo de la chapa:\n",
    "$$\n",
    "\\begin{aligned}\n",
    "T_{1,\\text{O}} = & T_{1,\\text{O}} \\exp (\\mu\\,\\theta_\\text{OA}) \\\\\n",
    "T_{1,\\text{B}} = & T_{1,\\text{O}} \\exp (\\mu\\,\\theta_\\text{OB}) = T_{1,\\text{O}} \\exp (\\mu\\,\\pi/2) \\\\\n",
    "T_{1,\\text{C}} = & T_{1,\\text{B}} \\\\\n",
    "T_{1,\\text{C}} = & T_{1,\\text{D}} \\exp (\\mu\\,\\theta_\\text{DC})  \\quad\\rightarrow\\quad\n",
    "T_{1,\\text{D}} = T_{1,\\text{C}} \\exp (-\\mu\\,\\pi/2) \\\\\n",
    "T_{1,\\text{E}} = & T_{1,\\text{D}} \\\\\n",
    "T_{1,\\text{F}} = & 0\n",
    "\\end{aligned}\n",
    "$$"
   ]
  },
  {
   "cell_type": "code",
   "execution_count": 38,
   "metadata": {},
   "outputs": [
    {
     "name": "stdout",
     "output_type": "stream",
     "text": [
      "T1A = 471 kN/m\n",
      "T1B = 545 kN/m\n",
      "T1C = 545 kN/m\n",
      "T1D = 466 kN/m\n",
      "T1E = 466 kN/m\n",
      "T1F = 0 kN/m\n"
     ]
    },
    {
     "data": {
      "image/png": "[encoded data removed]",
      "text/plain": [
       "<Figure size 1080x360 with 1 Axes>"
      ]
     },
     "metadata": {
      "needs_background": "light"
     },
     "output_type": "display_data"
    }
   ],
   "source": [
    "import matplotlib.pyplot as plt\n",
    "\n",
    "T1A = T1k(T1O, thetaOA)\n",
    "print('T1A = %.0f kN/m' % T1A)\n",
    "T1B = T1k(T1O, thetaOB)\n",
    "print('T1B = %.0f kN/m' % T1B)\n",
    "T1C = T1B\n",
    "print('T1C = %.0f kN/m' % T1C)\n",
    "T1D = T1C*math.exp(mu*thetaCD)\n",
    "T1D = T1k(T1C, thetaCD)\n",
    "print('T1D = %.0f kN/m' % T1D)\n",
    "T1E = T1D\n",
    "print('T1E = %.0f kN/m' % T1E)\n",
    "T1F = 0\n",
    "print('T1F = %.0f kN/m' % T1F)\n",
    "\n",
    "sO = 0\n",
    "sA = sO + sOA\n",
    "sB = sA + sAB\n",
    "sC = sB + sBC\n",
    "sD = sC + sCD\n",
    "sE = sD + sDE\n",
    "sF = sE + sEF\n",
    "position = [sO, sA, sB, sC, sD, sE, sF]\n",
    "tension = [T1O, T1A, T1B, T1C, T1D, T1E, T1F]\n",
    "\n",
    "fig, ax = plt.subplots(figsize=(15,5))\n",
    "[ax.axvline(x=i, color='grey', linestyle=':') for i in (sO, sA, sB, sC, sD)]\n",
    "ax.plot(position, tension, 'bo-')\n",
    "ax.set_ylim(0, max(tension)+10)\n",
    "ax.set_xlabel(r'$x$ (mm)')\n",
    "ax.set_ylabel(r'Fuerza, $T_1$ (kN/m)', color='b')\n",
    "\n",
    "label = ['O', 'A', 'B', 'C', 'D', 'E', 'F']\n",
    "[plt.annotate(xy=[i, 0.01], text=j) for i, j in zip(position, label)]\n",
    "plt.show()"
   ]
  },
  {
   "cell_type": "markdown",
   "metadata": {},
   "source": [
    "#### Deformación a lo largo de la chapa:\n",
    "$$\n",
    "\\begin{aligned}\n",
    "T_{1,\\text{A}} = & K (\\varepsilon_{1,\\text{A}})^n \\cdot t_0 \\exp{(-\\varepsilon_{1,\\text{A}})} & \\quad\\rightarrow\\quad \\varepsilon_{1,\\text{A}} \\\\\n",
    "T_{1,\\text{B}} = & K (\\varepsilon_{1,\\text{B}})^n \\cdot t_0 \\exp{(-\\varepsilon_{1,\\text{B}})} & \\quad\\rightarrow\\quad \\varepsilon_{1,\\text{B}} \\\\\n",
    "T_{1,\\text{C}} = & T_{1,\\text{B}} & \\quad\\rightarrow\\quad \\varepsilon_{1,\\text{C}}=\\varepsilon_{1,\\text{B}} \\\\\n",
    "T_{1,\\text{D}} = & K (\\varepsilon_{1,\\text{D}})^n \\cdot t_0 \\exp{(-\\varepsilon_{1,\\text{D}})} & \\quad\\rightarrow\\quad \\varepsilon_{1,\\text{D}} \\\\\n",
    "T_{1,\\text{E}} = & T_{1,\\text{D}} & \\quad\\rightarrow\\quad \\varepsilon_{1,\\text{E}}=\\varepsilon_{1,\\text{D}}\n",
    "\\end{aligned}\n",
    "$$\n"
   ]
  },
  {
   "cell_type": "code",
   "execution_count": 39,
   "metadata": {},
   "outputs": [
    {
     "name": "stdout",
     "output_type": "stream",
     "text": [
      "e1A = 0.033 \t --> Comprobación: T1A = 471.2 kN/m\n",
      "e1B = 0.136 \t --> Comprobación: T1B = 545.0 kN/m\n",
      "e1C = 0.136\n",
      "e1D = 0.030 \t --> Comprobación: T1D = 465.8 kN/m\n",
      "e1E = 0.030\n",
      "e1F = 0.000\n"
     ]
    }
   ],
   "source": [
    "from scipy.optimize import fsolve\n",
    "\n",
    "funcA = lambda x : T1A - T1(x)\n",
    "funcB = lambda x : T1B - T1(x)\n",
    "funcD = lambda x : T1D - T1(x)\n",
    "e1A = fsolve(funcA, e1O)\n",
    "e1B = fsolve(funcB, e1A)\n",
    "e1C = e1B\n",
    "e1D = fsolve(funcD, e1O)\n",
    "e1E = e1D\n",
    "e1F = 0\n",
    "print('e1A = %.3f \\t --> Comprobación: T1A = %0.1f kN/m' % (e1A, T1(e1A)))\n",
    "print('e1B = %.3f \\t --> Comprobación: T1B = %0.1f kN/m' % (e1B, T1(e1B)))\n",
    "print('e1C = %.3f' % e1C)\n",
    "print('e1D = %.3f \\t --> Comprobación: T1D = %0.1f kN/m' % (e1D, T1(e1D)))\n",
    "print('e1E = %.3f' % e1E)\n",
    "print('e1F = %.3f' % e1F)"
   ]
  },
  {
   "cell_type": "code",
   "execution_count": 42,
   "metadata": {},
   "outputs": [
    {
     "data": {
      "image/png": "[encoded data removed]",
      "text/plain": [
       "<Figure size 1080x360 with 2 Axes>"
      ]
     },
     "metadata": {
      "needs_background": "light"
     },
     "output_type": "display_data"
    }
   ],
   "source": [
    "strain = [e1O, e1A, e1B, e1C, e1D, e1E, e1F]\n",
    "thickness = [t(e) for e in strain]\n",
    "\n",
    "fig, ax = plt.subplots(figsize=(15,5))\n",
    "[ax.axvline(x=i, color='grey', linestyle=':') for i in (sO, sA, sB, sC, sD)]\n",
    "ax.plot(position, strain, 'b--')\n",
    "ax.set_ylim(0, max(strain)+0.01)\n",
    "ax.set_xlabel(r'$x$ (mm)')\n",
    "ax.set_ylabel(r'Deformación, $\\varepsilon_1$', color='b')\n",
    "\n",
    "ax2 = ax.twinx()\n",
    "ax2.plot(position, thickness, 'r-')\n",
    "ax2.set_ylim(0, t0)\n",
    "ax2.set_ylabel(r'Espesor, $t$ (mm)', color='r')\n",
    "\n",
    "[plt.annotate(xy=[i, 0.01], text=j) for i, j in zip(position, label)]\n",
    "plt.show()"
   ]
  },
  {
   "cell_type": "markdown",
   "metadata": {},
   "source": [
    "#### Presión de contacto a lo largo de la chapa\n",
    "\n",
    "$$\n",
    "p = \\frac{T_1}{R}\n",
    "$$\n",
    "\n",
    "\n",
    "- Zona OA:\n",
    "$\n",
    "p_\\text{O} = \\frac{T_{1,\\text{O}}}{R_f} \\qquad\n",
    "p_\\text{A} = \\frac{T_{1,\\text{A}}}{R_f}\n",
    "$\n",
    "\n",
    "- Zona AB:\n",
    "$\n",
    "p_\\text{A} = \\frac{T_{1,\\text{A}}}{R_p} \\qquad\n",
    "p_\\text{B} = \\frac{T_{1,\\text{B}}}{R_p}\n",
    "$\n",
    "\n",
    "- Zona BC:\n",
    "$\n",
    "p_\\text{B} = 0 \\qquad\n",
    "p_\\text{C} = 0\n",
    "$\n",
    "\n",
    "- Zona CD:\n",
    "$\n",
    "p_\\text{C} = \\frac{T_{1,\\text{C}}}{R_d} \\qquad\n",
    "p_\\text{D} = \\frac{T_{1,\\text{D}}}{R_d}\n",
    "$\n",
    "\n",
    "- Zona DE:\n",
    "$\n",
    "p_\\text{D} = 0 \\qquad\n",
    "p_\\text{E} = 0\n",
    "$\n",
    "\n",
    "- Zona EF:\n",
    "$\n",
    "p_\\text{E} = \\frac{B}{s_\\text{EF}} \\qquad\n",
    "p_\\text{F} = \\frac{B}{s_\\text{EF}}\n",
    "$\n",
    "\n",
    "- Fuera del prensa-chapa:\n",
    "$\n",
    "p_\\text{F} = 0\n",
    "$\n"
   ]
  },
  {
   "cell_type": "code",
   "execution_count": 44,
   "metadata": {},
   "outputs": [
    {
     "name": "stdout",
     "output_type": "stream",
     "text": [
      "Zona OA: pO = 0.166 MPa, pA = 0.168 MPa\n",
      "Zona BC: pA = 47.1 MPa, pB = 54.5 MPa\n",
      "Zona CD: pB = pC = 0\n",
      "Zona DE: pC = 54.5 MPa, pD = 46.6 MPa\n",
      "Zona EF: pD = pE = 0\n",
      "Zona F: pE = 29.1 MPa, pF = 29.1 MPa\n",
      "Fuera del prensa-chapa: pF = 0\n"
     ]
    },
    {
     "data": {
      "image/png": "[encoded data removed]",
      "text/plain": [
       "<Figure size 1080x360 with 1 Axes>"
      ]
     },
     "metadata": {
      "needs_background": "light"
     },
     "output_type": "display_data"
    }
   ],
   "source": [
    "pO = T1O/Rf\n",
    "pA1 = T1A/Rf\n",
    "print('Zona OA: pO = %.3f MPa, pA = %.3f MPa' % (pO, pA1))\n",
    "pA2 = T1A/Rp\n",
    "pB1 = T1B/Rp\n",
    "print('Zona BC: pA = %.1f MPa, pB = %.1f MPa' % (pA2, pB1))\n",
    "pB2 = 0\n",
    "pC1 = 0\n",
    "print('Zona CD: pB = pC = 0')\n",
    "pC2 = T1C/Rp\n",
    "pD1 = T1D/Rd\n",
    "print('Zona DE: pC = %.1f MPa, pD = %.1f MPa' % (pC2, pD1))\n",
    "pD2 = 0\n",
    "pE1 = 0\n",
    "print('Zona EF: pD = pE = 0')\n",
    "pE2 = B/sEF\n",
    "pF1 = pE2\n",
    "print('Zona F: pE = %.1f MPa, pF = %.1f MPa' % (pE2, pF1))\n",
    "pF2 = 0\n",
    "print('Fuera del prensa-chapa: pF = 0')\n",
    "\n",
    "position2 = [sO, sA, sA, sB, sB, sC, sC, sD, sD, sE, sE, sF, sF]\n",
    "pressure = [pO, pA1, pA2, pB1, pB2, pC1, pC2, pD1, pD2, pE1, pE2, pF1, pF2]\n",
    "\n",
    "fig, ax = plt.subplots(figsize=(15,5))\n",
    "[ax.axvline(x=i, color='grey', linestyle=':') for i in (sO, sA, sB, sC, sD)]\n",
    "ax.plot(position2, pressure, 'bo-')\n",
    "ax.set_ylim(0, max(pressure)+2)\n",
    "ax.set_xlabel('Posición a lo largo de la chapa (mm)')\n",
    "ax.set_ylabel(r'Presión, $p$', color='b')\n",
    "\n",
    "label = ['O', 'A', 'B', 'C', 'D', 'E', 'F']\n",
    "[plt.annotate(xy=[i, 0.01], text=j) for i, j in zip(position, label)]\n",
    "plt.show()"
   ]
  },
  {
   "cell_type": "markdown",
   "metadata": {},
   "source": [
    "#### Longitud inicial de la mitad de la chapa, $w_0$\n",
    "\n",
    "Por conservación de volumen:\n",
    "$$\n",
    "w_0 = \\frac{1}{t_0} \\sum s_i \\, \\overline{t_i}\n",
    "$$\n",
    "\n",
    "Deformación total promedio:\n",
    "$$\n",
    "\\overline{\\varepsilon_1} = \\ln\\frac{\\sum s_i}{w_0}\n",
    "$$\n"
   ]
  },
  {
   "cell_type": "code",
   "execution_count": 45,
   "metadata": {},
   "outputs": [
    {
     "name": "stdout",
     "output_type": "stream",
     "text": [
      "Zona OA: s = 321.9 mm, t = 1.163 mm --> longitud inicial = 311.8 mm\n",
      "Zona AB: s = 14.6 mm, t = 1.104 mm --> longitud inicial = 13.4 mm\n",
      "Zona BC: s = 28.0 mm, t = 1.048 mm --> longitud inicial = 24.4 mm\n",
      "Zona CD: s = 15.7 mm, t = 1.106 mm --> longitud inicial = 14.5 mm\n",
      "Zona DE: s = 0.0 mm, t = 1.165 mm --> longitud inicial = 0.0 mm\n",
      "Zona EF: s = 80.0 mm, t = 1.182 mm --> longitud inicial = 78.8 mm\n",
      "Longitud inicial de la mitad de la chapa, w0 = 443 mm \n",
      "Deformación total promedio = 0.038\n"
     ]
    }
   ],
   "source": [
    "tO, tA, tB, tC, tD, tE, tF = thickness\n",
    "tOA = (tO+tA)/2\n",
    "wOA = sOA*tOA/t0\n",
    "print('Zona OA: s = %.1f mm, t = %.3f mm --> longitud inicial = %.1f mm' % (sOA, tOA, wOA))\n",
    "tAB = (tA+tB)/2\n",
    "wAB = sAB*tAB/t0\n",
    "print('Zona AB: s = %.1f mm, t = %.3f mm --> longitud inicial = %.1f mm' % (sAB, tAB, wAB))\n",
    "tBC = (tB+tC)/2\n",
    "wBC = sBC*tBC/t0\n",
    "print('Zona BC: s = %.1f mm, t = %.3f mm --> longitud inicial = %.1f mm' % (sBC, tBC, wBC))\n",
    "tCD = (tC+tD)/2\n",
    "wCD = sCD*tCD/t0\n",
    "print('Zona CD: s = %.1f mm, t = %.3f mm --> longitud inicial = %.1f mm' % (sCD, tCD, wCD))\n",
    "tDE = (tD+tE)/2\n",
    "wDE = sDE*tDE/t0\n",
    "print('Zona DE: s = %.1f mm, t = %.3f mm --> longitud inicial = %.1f mm' % (sDE, tDE, wDE))\n",
    "tEF = (tE+tF)/2\n",
    "wEF = sEF*tEF/t0\n",
    "print('Zona EF: s = %.1f mm, t = %.3f mm --> longitud inicial = %.1f mm' % (sEF, tEF, wEF))\n",
    "w0 = wOA + wAB + wBC + wCD + wDE + wEF\n",
    "print('Longitud inicial de la mitad de la chapa, w0 = %.0f mm ' % w0)\n",
    "e_average = math.log(s_total/w0)\n",
    "print('Deformación total promedio = %.3f' % e_average)"
   ]
  },
  {
   "cell_type": "markdown",
   "metadata": {},
   "source": [
    "#### Fuerza vs deformación en el instante del enunciado"
   ]
  },
  {
   "cell_type": "code",
   "execution_count": 61,
   "metadata": {},
   "outputs": [
    {
     "data": {
      "image/png": "[encoded data removed]",
      "text/plain": [
       "<Figure size 1080x360 with 1 Axes>"
      ]
     },
     "metadata": {
      "needs_background": "light"
     },
     "output_type": "display_data"
    },
    {
     "name": "stdout",
     "output_type": "stream",
     "text": [
      "Fuerza máxima en la pared vertical cuando e1 = n = 0.245 --> T1 = 555.4 kN/m\n",
      "Fuerza máxima, zona BC: e1 = 0.136, T1 = 545.0 kN/m\n"
     ]
    }
   ],
   "source": [
    "fig, ax = plt.subplots(figsize=(15,5))\n",
    "x = [i/100 for i in range(100)]\n",
    "y = [T1(i) for i in x]\n",
    "ax.plot(x, y, 'b-')\n",
    "ax.plot(e1B, T1B, 'ro', label='Fuerza máxima (zona BC): $T_1=%.0f$ kN/m' % T1B)\n",
    "ax.plot(e1O, T1O, 'go', label=r'Punto O: $\\varepsilon_1=%.3f$' % e1O)\n",
    "ax.set_xlabel(r'Deformación, $\\varepsilon_1$')\n",
    "ax.set_ylabel(r'Fuerza, $T_1$ (kN/m)')\n",
    "plt.legend(loc='lower center')\n",
    "plt.title(\"Fuerza vs deformación en el instante del enunciado\")\n",
    "plt.show()\n",
    "print('Fuerza máxima en la pared vertical cuando e1 = n = %s --> T1 = %0.1f kN/m' % (n, T1max))\n",
    "print('Fuerza máxima, zona BC: e1 = %0.3f, T1 = %0.1f kN/m' % (e1B, T1B))"
   ]
  },
  {
   "cell_type": "markdown",
   "metadata": {},
   "source": [
    "#### Fuerza vs deformación en al inicio de la estricción"
   ]
  },
  {
   "cell_type": "code",
   "execution_count": 62,
   "metadata": {},
   "outputs": [
    {
     "data": {
      "image/png": "[encoded data removed]",
      "text/plain": [
       "<Figure size 1080x360 with 1 Axes>"
      ]
     },
     "metadata": {
      "needs_background": "light"
     },
     "output_type": "display_data"
    },
    {
     "name": "stdout",
     "output_type": "stream",
     "text": [
      "Fuerza máxima en la pared vertical cuando e1 = n = 0.245 --> T1 = 555.4 kN/m\n",
      "Fuerza máxima, zona BC: e1 = 0.136, T1 = 545.0 kN/m\n"
     ]
    }
   ],
   "source": [
    "fig, ax = plt.subplots(figsize=(15,5))\n",
    "x = [i/100 for i in range(100)]\n",
    "y = [T1(i) for i in x]\n",
    "ax.axvline(x=n-e0, color='grey', linestyle=':', label=r'Estricción, $\\varepsilon_1^*=n-\\varepsilon_0 = %.3f$' % (n-e0))\n",
    "ax.plot(x, y, 'b-')\n",
    "ax.plot(n-e0, T1max, 'ro', label='Fuerza máxima (zona BC): $T_1=%.0f$ kN/m' % T1max)\n",
    "ax.plot(e1Omax, T1Omax, 'go', label=r'Punto O: $\\varepsilon_1=%.3f$' % e1Omax)\n",
    "ax.set_xlabel(r'Deformación, $\\varepsilon_1$')\n",
    "ax.set_ylabel(r'Fuerza, $T_1$ (kN/m)')\n",
    "plt.legend()\n",
    "plt.title(\"Fuerza vs deformación en al inicio de la estricción\")\n",
    "plt.show()\n",
    "print('Fuerza máxima en la pared vertical cuando e1 = n = %s --> T1 = %0.1f kN/m' % (n, T1max))\n",
    "print('Fuerza máxima, zona BC: e1 = %0.3f, T1 = %0.1f kN/m' % (e1B, T1B))"
   ]
  },
  {
   "cell_type": "code",
   "execution_count": null,
   "metadata": {},
   "outputs": [],
   "source": []
  }
 ],
 "metadata": {
  "kernelspec": {
   "display_name": "Python 3",
   "language": "python",
   "name": "python3"
  },
  "language_info": {
   "codemirror_mode": {
    "name": "ipython",
    "version": 3
   },
   "file_extension": ".py",
   "mimetype": "text/x-python",
   "name": "python",
   "nbconvert_exporter": "python",
   "pygments_lexer": "ipython3",
   "version": "3.8.3"
  }
 },
 "nbformat": 4,
 "nbformat_minor": 4
}
