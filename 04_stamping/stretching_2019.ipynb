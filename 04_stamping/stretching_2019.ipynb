{
 "cells": [
  {
   "cell_type": "markdown",
   "metadata": {},
   "source": [
    "## Procesos de Fabricación Aeronáutica - Máster Universitario en Ingeniería Aeronáutica\n",
    "### Problema de estirado, examen parcial 17/12/2019\n",
    "\n",
    "<img src=\"stretching.svg\" alt=\"Stretching\"/>\n",
    "\n",
    "La figura adjunta muestra un esquema de un proceso de estirado para un componente del fuselaje de una aeronave. La chapa de partida se sujeta por dos de sus extremos enfrentados con un sistema de mordazas rotativo que evita la flexión de la chapa en la zona de cogida. El punzón tiene un radio $R=1.1$ m y se desplaza hacia arriba una distancia $s$. Los ejes de rotación de las mordazas (punto C) están separados una distancia $L=3$ m. Las dimensiones de la chapa, sin tener en cuenta la zona de cogida, son $l_0=2.4$ m, $w_0=2$ m y espesor $t_0=1.2$ mm. El material es una aleación de aluminio con una ley de comportamiento $\\overline\\sigma = 810 \\overline\\varepsilon^{0.24}$ MPa. El coeficiento de fricción es $\\mu=0.1$.\n",
    "\n",
    "Cuando se alcanza un ángulo $\\theta=35°$, la fuerza del punzón es de $F=716.4$ kN/m. En esta situación se pide representar la distribución a lo largo de la chapa de las variables indicadas en cada apartado. Recuerde las ecuaciones de equilibrio: $T_1=p\\,R$, $T_{1k} = T_{1j} \\exp{(\\mu\\theta_{jk})}$.\n",
    "\n",
    "1. Fuerza longitudinal por unidad de longitud ($T_1$).\n",
    "2. Deformación longitudinal ($\\varepsilon_1$).\n",
    "3. Espesor ($t$).\n",
    "4. Presión ($p$).\n",
    "5. Calcule la fuerza máxima del punzón justo antes de que se produzca el fallo de la chapa. Si no puede calcularla directamente, al menos indique el procedimiento de cálculo. Indique también el tipo de fallo que se produciría así como su posición y su orientación en la chapa.\n",
    "\n",
    "### Soluciones\n",
    "\n",
    "La geometría del proceso indica un caso claro de deformación plana, $\\beta=0$ (siempre exceptuando las zonas cercanas a los bordes libres de la chapa, que están en condiciones de tracción uniaxial, $\\alpha=0$). En esa situación, la ley de comportamiento puede expresarse como:\n",
    "$$\n",
    "\\begin{aligned}\n",
    "\\alpha = & \\frac{2 \\beta+1}{\\beta+2} = \\frac{1}{2} \\\\\n",
    "\\overline\\sigma = & \\sigma_1 \\sqrt{1-\\alpha+\\alpha^2} = \\frac{\\sqrt{3}}{2}\\sigma_1  \\\\\n",
    "\\overline\\varepsilon = & \\varepsilon_1 \\sqrt{1+\\beta+\\beta^2} = \\varepsilon_1 \\\\\n",
    "\\sigma_1 = & K' \\varepsilon_1^n\n",
    "\\end{aligned}\n",
    "$$\n",
    "siendo $K' = 2K/\\sqrt{3}$.\n",
    "\n",
    "### Resolución con Python\n",
    "\n",
    "Declaramos los parámetros del problema (unidades en mm, MPa, kN/m):"
   ]
  },
  {
   "cell_type": "code",
   "execution_count": 1,
   "metadata": {},
   "outputs": [],
   "source": [
    "import math\n",
    "\n",
    "R = 1100\n",
    "l0 = 2400\n",
    "w0 = 2000\n",
    "t0 = 1.2\n",
    "\n",
    "K = 810\n",
    "Kp = 2*810/math.sqrt(3)\n",
    "n = 0.24\n",
    "σ1 = lambda ε1: Kp*ε1**n\n",
    "μ = 0.1\n",
    "\n",
    "θ = math.radians(35)\n",
    "F = 716.4"
   ]
  },
  {
   "cell_type": "markdown",
   "metadata": {},
   "source": [
    "#### 1. Fuerza longitudinal por unidad de longitud ($T_1$).\n",
    "\n",
    "La fuerza de reacción en B se puede calcular usando la ecuación de equilibrio:\n",
    "$$\n",
    "F = 2 T_{1,B} \\sin\\theta \\quad\\rightarrow\\quad\n",
    "T_{1,B} = \\frac{F}{2  \\sin \\theta}\n",
    "$$\n",
    "\n",
    "La fuerza en todo el tramo AB es constante y, por tanto:\n",
    "$$\n",
    "T_{1,A} = T_{1,B}\n",
    "$$\n",
    "\n",
    "Con la ecuación de equilibrio para el tramo curvo OA, la fuerza en O se calcula como:\n",
    "$$\n",
    "T_{1,O} = T_{1,A} \\mathrm{e}^{-\\mu\\theta}\n",
    "$$"
   ]
  },
  {
   "cell_type": "code",
   "execution_count": 2,
   "metadata": {},
   "outputs": [
    {
     "name": "stdout",
     "output_type": "stream",
     "text": [
      "T1O = 587.5 kN/m\n",
      "T1A = 624.5 kN/m\n",
      "T1B = 624.5 kN/m\n"
     ]
    }
   ],
   "source": [
    "T1B = F/(2*math.sin(θ))\n",
    "T1A = T1B\n",
    "T1O = T1A*math.exp(-μ*θ)\n",
    "print('T1O = %.1f kN/m' % T1O)\n",
    "print('T1A = %.1f kN/m' % T1A)\n",
    "print('T1B = %.1f kN/m' % T1B)"
   ]
  },
  {
   "cell_type": "markdown",
   "metadata": {},
   "source": [
    "#### 2. Deformación longitudinal ($\\varepsilon_1$).\n",
    "\n",
    "La deformación en los puntos O, A y B se obtiene de la siguiente ecuación usando métodos numéricos:\n",
    "$$\n",
    "T_1 = \\sigma_1 t = K' \\varepsilon_1^n \\cdot t_0\\exp{(\\varepsilon_1)}\n",
    "$$\n",
    "\n",
    "Usamos la función `fsolve` del módulo `scipy.optimize` para el cálculo numérico.\n"
   ]
  },
  {
   "cell_type": "code",
   "execution_count": 3,
   "metadata": {},
   "outputs": [
    {
     "name": "stdout",
     "output_type": "stream",
     "text": [
      "ε1O = 0.104\n",
      "ε1A = 0.200\n",
      "ε1B = 0.200\n"
     ]
    }
   ],
   "source": [
    "from scipy.optimize import fsolve\n",
    "\n",
    "funcT1 = lambda ε1 : σ1(ε1)*t0*math.exp(-ε1)\n",
    "funcO = lambda ε1 : T1O - funcT1(ε1)\n",
    "funcA = lambda ε1 : T1A - funcT1(ε1)\n",
    "ε1O = fsolve(funcO, 0.1)\n",
    "ε1A = fsolve(funcA, ε1O)\n",
    "ε1B = ε1A\n",
    "print('ε1O = %.3f' % ε1O)\n",
    "print('ε1A = %.3f' % ε1A)\n",
    "print('ε1B = %.3f' % ε1B)"
   ]
  },
  {
   "cell_type": "markdown",
   "metadata": {},
   "source": [
    "#### 3. Espesor ($t$).\n",
    "\n",
    "Conocida la deformación, el espesor se calcula como:\n",
    "$$\n",
    "t = t_0\\exp{(\\varepsilon_1)}\n",
    "$$\n"
   ]
  },
  {
   "cell_type": "code",
   "execution_count": 4,
   "metadata": {},
   "outputs": [
    {
     "name": "stdout",
     "output_type": "stream",
     "text": [
      "tO = 1.082 mm\n",
      "tA = 0.982 mm\n",
      "tB = 0.982 mm\n"
     ]
    }
   ],
   "source": [
    "tO = t0*math.exp(-ε1O)\n",
    "tA = t0*math.exp(-ε1A)\n",
    "tB = tA\n",
    "print('tO = %.3f mm' % tO)\n",
    "print('tA = %.3f mm' % tA)\n",
    "print('tB = %.3f mm' % tB)"
   ]
  },
  {
   "cell_type": "markdown",
   "metadata": {},
   "source": [
    "#### 4. Presión ($p$).\n",
    "\n",
    "Conocida la fuerza longitudinal sobre la chapa, la presión del punzón en el tramo OA se calcula como:\n",
    "$$\n",
    "p = \\frac{T_1}{R}\n",
    "$$\n"
   ]
  },
  {
   "cell_type": "code",
   "execution_count": 5,
   "metadata": {},
   "outputs": [
    {
     "name": "stdout",
     "output_type": "stream",
     "text": [
      "pO = 0.534 MPa\n",
      "pA = 0.568 MPa\n"
     ]
    }
   ],
   "source": [
    "pO = T1O/R\n",
    "pA = T1A/R\n",
    "print('pO = %.3f MPa' % pO)\n",
    "print('pA = %.3f MPa' % pA)"
   ]
  },
  {
   "cell_type": "markdown",
   "metadata": {},
   "source": [
    "#### 5. Fuerza máxima del punzón\n",
    "\n",
    "El fallo se producirá por estricción localizada. Dado que toda la chapa está en deformación plana, el fallo se producirá en la zona de mayor deformación, es decir en el tramo AB, y a 90º con respecto a la dirección longitudinal de la chapa.\n",
    "\n",
    "Según el modelo de Hill, la deformación límite en AB será $\\varepsilon_1^* = n$ y, por consiguiente, la fuerza longitudinal en ese tramo es conocida:\n",
    "$$T_{1}^* = K' n^n \\cdot t_0 \\mathrm{e}^{n}$$"
   ]
  },
  {
   "cell_type": "code",
   "execution_count": 6,
   "metadata": {},
   "outputs": [
    {
     "name": "stdout",
     "output_type": "stream",
     "text": [
      "T1* = 626.8 kN/m\n"
     ]
    }
   ],
   "source": [
    "print('T1* = %.1f kN/m' % funcT1(n))"
   ]
  },
  {
   "cell_type": "markdown",
   "metadata": {},
   "source": [
    "Pero para calcular la fuerza como\n",
    "$$F^* = 2 \\, T_{1}^* \\sin \\theta^*$$\n",
    "es necesario calcular antes el ángulo $\\theta^*$. El valor de $\\theta$ varía con el avance del punzón, al igual que el resto de variables. Es necesario usar métodos numéricos para calcular $\\theta^*$. Un procedimiento de cálculo podría ser el siguiente:\n",
    "\n",
    "1. Establecer un valor inicial $\\theta_0$ (por ejemplo: 35°) y calcular $T_1$ y $\\varepsilon_1$ en O, A y B.\n",
    "2. Aumentar el ángulo: $\\theta_{i+1} = \\theta_i + \\Delta\\theta$.\n",
    "     - Calcular $T_1$ y $\\varepsilon_1$ en O, A y B.\n",
    "     - Si en el tramo AB se tiene $\\varepsilon_{1} < n$: repetir el punto 2.\n",
    "\n",
    "\n",
    "### Explicación\n",
    "\n",
    "En la práctica, cuando la sujeción con las mordazas (punto B) se realiza correctamente, el fallo sucede donde la chapa deja de estar en contacto con el punzón (punto A), justo donde se produce una inflexión en la distribución de $T_1$ y $p$. Además sucede en condiciones de deformacion plana, en una zona lejos de los bordes libres laterales (que están en tracción uniaxial). Al ser en deformacion plana, la orientación de la banda de estricción sería de 90° con respecto a la dirección 1 (es decir, alineada en la dirección perpendicular a la figura).\n",
    "\n",
    "Para la resolución numérica del problema, además de las ecuaciones vistas en la asignatura para el análisis simple de estampación, habría que añadir una ecuación adicional para calcular la distribución de deformaciones en vez de suponer conocida la deformación en un punto (en general, el punto O). Esa ecuación adicional podría ser la deformación promedio en toda la chapa: $\\overline\\varepsilon_1 = \\ln \\, (l_{\\text{OA}}+l_{\\text{AB}})/l_0$, siendo $l_{\\text{OA}}$ y $l_{\\text{AB}}$ las longitudes de los tramos OA y AB, respectivamente.\n",
    "\n",
    "### Procedimiento de cálculo de la fuerza máxima del punzón\n",
    "\n",
    "El cálculo de la fuerza máxima del punzón puede resolverse planteando las siguientes ecuaciones:\n",
    "\n",
    "- Una ecuación para la deformación longitudinal promedio a lo largo de la chapa:\n",
    "    $$\n",
    "    \\overline\\varepsilon_1 = \\ln\\frac{l_{\\text{OA}}+l_{\\text{AB}}}{l_0}\n",
    "    $$\n",
    "    siendo $l_{\\text{OA}}$ y $l_{\\text{AB}}$ las longitudes de los tramos OA y AB, respectivamente. Por otro lado, suponiendo una distribución lineal de la deformación en el tramo OA y sabiendo que en el tramo AB es constante, la deformación longitudinal promedio también puede expresarse como:\n",
    "    $$\n",
    "    \\overline\\varepsilon_1 \\approx \\frac{\\frac{\\varepsilon_{1,O}^*+\\varepsilon_{1,A}^*}{2} l_{\\text{OA}} + \\varepsilon_{1,A}^* l_{\\text{AB}}}{l_{\\text{OA}}+l_{\\text{AB}}}\n",
    "    $$\n",
    "    Igualando las expresiones anteriores se obtiene una ecuación con las siguientes variables:\n",
    "    \n",
    "    1. $\\varepsilon_{1,O}^*$ es una incógnita a resolver.\n",
    "    2. $\\varepsilon_{1,A}^*=n$ es conocida.\n",
    "    3. $l_{\\text{OA}}$ es una función de $\\theta^*$, en este caso $l_{\\text{OA}} = R \\theta^*$.\n",
    "    4. $l_{\\text{AB}}$ es una función de $\\theta^*$ que se puede obtener por trigonometría.\n",
    "    \n",
    "    Por tanto, hay dos incógnitas: $\\varepsilon_{1,O}^*$ y $\\theta^*$ y la ecuación a resolver es:\n",
    "    $$\n",
    "    \\ln\\frac{R\\theta^* + l_{\\text{AB}}(\\theta^*)}{l_0} = \\frac{\\frac{\\varepsilon_{1,O}^*+n}{2} \\cdot R\\theta^* + n \\cdot l_{\\text{AB}}(\\theta^*)}{R\\theta^* + l_{\\text{AB}}(\\theta^*)}\n",
    "    $$\n",
    "    \n",
    "- Una ecuación de equilibrio entre los puntos O y A:\n",
    "    $$\n",
    "    \\begin{aligned}\n",
    "    T_{1,A} = & T_{1,O} \\mathrm{e}^{\\mu\\theta^*} \\\\\n",
    "    K' n^n \\cdot t_0 \\mathrm{e}^{n} = & K' (\\varepsilon_{1,O}^*)^n \\cdot t_0 \\mathrm{e}^{\\varepsilon_{1,O}^*} \\cdot \\mathrm{e}^{\\mu\\theta^*} \\\\\n",
    "    \\left(\\frac{n}{\\varepsilon_{1,O}^*}\\right)^n = & \\exp{(\\mu\\theta^* + n - \\varepsilon_{1,O}^*)}\n",
    "    \\end{aligned}\n",
    "    $$\n",
    "\n",
    "Resolviendo el sistema de dos ecuaciones se obtienen las dos incógnitas $\\varepsilon_{1,O}^*$ y $\\theta^*$ y, por tanto, se puede calcular la fuerza del punzón $F$:\n",
    "\n",
    "$$\n",
    "\\theta = 38° \\quad\\rightarrow\\quad\n",
    "F_{\\max} = 771.8\\text{ kN/m}\n",
    "$$\n",
    "\n",
    "### Widget\n",
    "\n",
    "El siguiente `widget` simula el proceso de estirado y muestra los valores de todas la variables en cada instante de tiempo. Cambie el ángulo mediante el control deslizante hasta un valor de 38° y compruebe cómo se alcanza la deformación límite en el tramo AB."
   ]
  },
  {
   "cell_type": "code",
   "execution_count": 7,
   "metadata": {},
   "outputs": [
    {
     "data": {
      "application/vnd.jupyter.widget-view+json": {
       "model_id": "2561eb73339d4d32ae7b296ace058356",
       "version_major": 2,
       "version_minor": 0
      },
      "text/plain": [
       "interactive(children=(FloatSlider(value=35.0, description='Angle θ (°):', max=44.0, readout_format='.0f', step…"
      ]
     },
     "metadata": {},
     "output_type": "display_data"
    }
   ],
   "source": [
    "%matplotlib inline\n",
    "from ipywidgets import interactive, fixed\n",
    "import ipywidgets as widgets\n",
    "from stretching_2019 import *\n",
    "\n",
    "TL = 3000      # longitud total (chapa + 2 mordazas)\n",
    "CL = (TL-l0)/2 # longitud de la mordaza\n",
    "wa=widgets.FloatSlider(min=0, max=44, step=1, value=35, description='Angle θ (°):', readout=True, readout_format='.0f',)\n",
    "ip=interactive(plot_stretching, R=fixed(R), TL=fixed(TL), CL=fixed(CL), mu=fixed(μ), t0=fixed(t0), K=fixed(K), n=fixed(n), angle=wa, continuous_update=False)\n",
    "ip"
   ]
  },
  {
   "cell_type": "markdown",
   "metadata": {},
   "source": [
    "Comprobación:"
   ]
  },
  {
   "cell_type": "code",
   "execution_count": 8,
   "metadata": {},
   "outputs": [
    {
     "name": "stdout",
     "output_type": "stream",
     "text": [
      "Espesor crítico = 0.944 mm\n",
      "Fuerza máxima del punzón = 771.8 kN/m\n"
     ]
    }
   ],
   "source": [
    "θc = math.radians(38)\n",
    "tc = t0*math.exp(-n)\n",
    "T1c = σ1(n)*tc\n",
    "Fc = 2*T1c*math.sin(θc)\n",
    "print('Espesor crítico = %.3f mm' % tc)\n",
    "print('Fuerza máxima del punzón = %.1f kN/m' % Fc)"
   ]
  }
 ],
 "metadata": {
  "kernelspec": {
   "display_name": "Python [default]",
   "language": "python",
   "name": "python3"
  },
  "language_info": {
   "codemirror_mode": {
    "name": "ipython",
    "version": 3
   },
   "file_extension": ".py",
   "mimetype": "text/x-python",
   "name": "python",
   "nbconvert_exporter": "python",
   "pygments_lexer": "ipython3",
   "version": "3.5.3"
  }
 },
 "nbformat": 4,
 "nbformat_minor": 4
}
