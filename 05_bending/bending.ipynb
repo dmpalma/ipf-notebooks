{
 "cells": [
  {
   "cell_type": "markdown",
   "metadata": {},
   "source": [
    "## Simplified sheet bending analysis\n",
    "### Bending moment vs. curvature in a elastic, perfectly plastic material\n",
    "\n",
    "The sheet bending analysis below is valid for a bend radius more than three or four times the sheet thickness: $R/t > 4$.\n",
    "\n",
    "<img src=\"marciniak_fig6_1.png\" alt=\"A unit length of a continuous strip bent along a line\" width=\"480\"/>\n",
    "\n",
    "Figure 1: A unit length of a continuous strip bent along a line.\n",
    "\n",
    "As shown in Figure 1, we consider a unit width of a continuous sheet in which a cylindrical bent region\n",
    "of radius of curvature $\\rho = R + t/2$ is flanked by flat sheet. The bend angle is\n",
    "$\\theta$, and a moment per unit width $M$, and a tension (force per unit width) $T$ are\n",
    "applied. We note that the tension $T$ is applied at the middle surface of the sheet.\n",
    "\n",
    "We consider that the sheet is formed by superimposed fibers or layers. The\n",
    "neutral axis is the fiber where the stress is zero. Above the neutral axis,\n",
    "the material is in tension. Below, the material is in compression.\n",
    "\n",
    "In bending a thin sheet ($R/t > 4$), it may be assumed that a plane normal section in the\n",
    "sheet will remain plane and normal and converge on the centre of curvature.\n",
    "\n",
    "Note that the condition $R/t > 4$ is equivalent to $\\rho/t > 4.5$:\n",
    "$$\n",
    "\\frac{R}{t} = \\frac{\\rho-t/2}{t} = \\frac{\\rho}{t} - \\frac{1}{2} > 4\n",
    "\\quad \\rightarrow \\quad\n",
    "\\frac{\\rho}{t} > 4.5\n",
    "$$\n",
    "\n",
    "The bend angle $\\theta$ is obtained from:\n",
    "$$\n",
    "l = \\rho \\theta \\quad \\rightarrow \\quad\n",
    "\\theta = l \\frac{1}{\\rho}\n",
    "$$\n",
    "where $l$ is the arc length.\n",
    "\n",
    "Run the cell below and use the slider in the `interactive plot` to automatically update the figure. It simulates the bending of a sheet metal element and shows the current values of angle, radius and curvature."
   ]
  },
  {
   "cell_type": "code",
   "execution_count": 1,
   "metadata": {},
   "outputs": [
    {
     "data": {
      "image/png": "[encoded data removed]",
      "text/plain": [
       "<Figure size 432x288 with 1 Axes>"
      ]
     },
     "metadata": {
      "needs_background": "light"
     },
     "output_type": "display_data"
    }
   ],
   "source": [
    "%matplotlib inline\n",
    "from ipywidgets import interactive, fixed\n",
    "import ipywidgets as widgets\n",
    "from bending import *\n",
    "wc=widgets.FloatSlider(min=0.00001, max=0.25, step=0.00001, value=0.1, description='Curvature:', \n",
    "                       readout=True, readout_format='.5f',)\n",
    "ip=interactive(plot_bend_element, curvature=wc)\n",
    "ip"
   ]
  },
  {
   "cell_type": "markdown",
   "metadata": {},
   "source": [
    "### Bending moment vs. curvature in a elastic, perfectly plastic material\n",
    "\n",
    "Where sheet is bent by a pure moment without any\n",
    "tension being applied, the neutral axis will be at\n",
    "the mid-thickness. A linear strain distribution is\n",
    "assumed:\n",
    "$$\n",
    "\\varepsilon_1 = \\frac{y}{\\rho}\n",
    "$$\n",
    "\n",
    "We assume an elastic, perfectly plastic material:\n",
    "$$\n",
    "\\overline\\sigma = \\left\\{ \n",
    "\\begin{aligned}\n",
    "& E \\overline\\varepsilon & \\text{, if } \\overline\\varepsilon < Y/E \\\\\n",
    "& Y & \\text{, if } \\overline\\varepsilon > Y/E\n",
    "\\end{aligned}\n",
    "\\right.\n",
    "$$\n",
    "or in the longitudinal direction:\n",
    "$$\n",
    "\\sigma_1 = \\left\\{ \n",
    "\\begin{aligned}\n",
    "& E' \\varepsilon_1 & \\text{, if } \\varepsilon_1 < Y'/E' \\\\\n",
    "& Y' & \\text{, if } \\varepsilon_1 > Y'/E'\n",
    "\\end{aligned}\n",
    "\\right.\n",
    "$$\n",
    "where the Young modulus $E'$ and yield stress $Y'$ in plane strain conditions are:\n",
    "$$\n",
    "E' = \\frac{E}{1-\\nu^2} \\quad , \\quad\n",
    "S' = \\frac{\\sqrt{3}}{2} S\n",
    "$$\n",
    "\n",
    "The equilibrium equations allow us to determine the bending moment:\n",
    "$$\n",
    "M = \\int_{-t/2}^{t/2} \\sigma_1 t \\, dt = \\left\\{ \n",
    "\\begin{aligned}\n",
    "& M_e  & \\text{, if } 1/\\rho < 1/\\rho_e \\\\\n",
    "& M_e \\frac{3-m^2}{2} & \\text{, if } 1/\\rho > 1/\\rho_e\n",
    "\\end{aligned}\n",
    "\\right.\n",
    "$$\n",
    "where:\n",
    "$$\n",
    "m = \\frac{1/\\rho_e}{1/\\rho}\n",
    "$$\n",
    "and the limiting elastic curvature and moment are:\n",
    "$$\n",
    "M_e = \\frac{S' t^2}{6} \\quad , \\quad\n",
    "\\left(\\frac{1}{\\rho}\\right)_e = \\frac{2 S'}{E' t}\n",
    "$$\n",
    "\n",
    "### Example in Python\n",
    "\n",
    "Define the sheet thickness and the material properties (Young modulus, Poison ratio and yield stress):"
   ]
  },
  {
   "cell_type": "code",
   "execution_count": 2,
   "metadata": {},
   "outputs": [],
   "source": [
    "t = 1.2\n",
    "E = 210e3\n",
    "nu = 0.3\n",
    "Y = 100"
   ]
  },
  {
   "cell_type": "markdown",
   "metadata": {},
   "source": [
    "We will use the Python functions defined in the `bending` modulus to calculate the bending parameters $1/\\rho_e$, $M_e$ and $M_p$ of the moment-curvature characteristic."
   ]
  },
  {
   "cell_type": "code",
   "execution_count": 3,
   "metadata": {},
   "outputs": [
    {
     "name": "stdout",
     "output_type": "stream",
     "text": [
      "Material constants in plane strain: Ep = 230.8 GPa, Yp = 86.6 MPa\n",
      "Limiting elastic curvature: (1/rho)e = 0.000625 mm-1 --> radius = 1599 mm\n",
      "Limiting elastic moment: Me = 20.8 Nm/m\n",
      "Fully plastic moment: Mp = 31.2 Nm/m\n"
     ]
    },
    {
     "data": {
      "image/png": "[encoded data removed]",
      "text/plain": [
       "<Figure size 432x288 with 1 Axes>"
      ]
     },
     "metadata": {
      "needs_background": "light"
     },
     "output_type": "display_data"
    }
   ],
   "source": [
    "Ep, Yp = constants_plane_strain(E, nu, Y)\n",
    "print('Material constants in plane strain: Ep = %.1f GPa, Yp = %.1f MPa' %(Ep/1e3, Yp))\n",
    "\n",
    "rhoe, Me, Mp = bending_char(t, Ep, Yp)\n",
    "print('Limiting elastic curvature: (1/rho)e = %.6f mm-1 --> radius = %.0f mm' % (1/rhoe, rhoe))\n",
    "print('Limiting elastic moment: Me = %.1f Nm/m' % (Me))\n",
    "print('Fully plastic moment: Mp = %.1f Nm/m' % (Mp))\n",
    "\n",
    "plot_moment_curvature(rhoe, Me, Mp)"
   ]
  },
  {
   "cell_type": "markdown",
   "metadata": {},
   "source": [
    "Use the slider in the `interactive plot` to automatically update the figure."
   ]
  },
  {
   "cell_type": "code",
   "execution_count": 4,
   "metadata": {},
   "outputs": [
    {
     "data": {
      "image/png": "[encoded data removed]",
      "text/plain": [
       "<Figure size 432x288 with 4 Axes>"
      ]
     },
     "metadata": {
      "needs_background": "light"
     },
     "output_type": "display_data"
    }
   ],
   "source": [
    "%matplotlib inline\n",
    "ip=interactive(plot_bending, t=fixed(t), Ep=fixed(Ep), Yp=fixed(Yp), rhoe=fixed(rhoe), Me=fixed(Me), Mp=fixed(Mp), curvature=wc)\n",
    "ip"
   ]
  },
  {
   "cell_type": "code",
   "execution_count": null,
   "metadata": {},
   "outputs": [],
   "source": []
  }
 ],
 "metadata": {
  "kernelspec": {
   "display_name": "Python 3 (ipykernel)",
   "language": "python",
   "name": "python3"
  },
  "language_info": {
   "codemirror_mode": {
    "name": "ipython",
    "version": 3
   },
   "file_extension": ".py",
   "mimetype": "text/x-python",
   "name": "python",
   "nbconvert_exporter": "python",
   "pygments_lexer": "ipython3",
   "version": "3.9.7"
  }
 },
 "nbformat": 4,
 "nbformat_minor": 4
}
