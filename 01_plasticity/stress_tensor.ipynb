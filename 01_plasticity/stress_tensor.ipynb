{
 "cells": [
  {
   "cell_type": "markdown",
   "metadata": {},
   "source": [
    "## Calculating the principal stresses\n",
    "\n",
    "This notebook explores the procedure for calculating the principal components of a stress tensor.\n",
    "\n",
    "A state of stress in tensor notation is expressed as:\n",
    "$$\n",
    "\\sigma_{ij} = \n",
    "\\begin{bmatrix}\n",
    "\\sigma_{xx} & \\sigma_{xy} & \\sigma_{xz} \\\\\n",
    "\\sigma_{xy} & \\sigma_{yy} & \\sigma_{yz} \\\\\n",
    "\\sigma_{xz} & \\sigma_{yz} & \\sigma_{zz}\n",
    "\\end{bmatrix}\n",
    "$$\n",
    "\n",
    "It is always possible to find a set of axes along which the shear stress terms vanish. In this case $\\sigma_1$, $\\sigma_2$ and $\\sigma_3$ are called the principal stresses. The magnitudes of the principal stresses $\\sigma_p$ are the roots of:\n",
    "$$\n",
    "\\sigma_p^3 - I_1 \\sigma_p^2 - I_2 \\sigma_p - I_3 = 0\n",
    "$$\n",
    "where $I_1$, $I_2$ and $I_3$ are called the invariants of the stress tensor:\n",
    "$$\n",
    "\\begin{aligned}\n",
    "I_1 = & \\sigma_{xx} + \\sigma_{yy} + \\sigma_{zz} \\\\\n",
    "I_2 = & \\sigma_{xy}^2 + \\sigma_{xz}^2 + \\sigma_{yz}^2 - \\sigma_{yy}\\sigma_{xx} - \\sigma_{zz}\\sigma_{xx} - \\sigma_{xx}\\sigma_{yy} \\\\\n",
    "I_3 = & \\sigma_{xx}\\sigma_{yy}\\sigma_{zz} + 2\\sigma_{yz}\\sigma_{xz}\\sigma_{xy} - \\sigma_{xx}\\sigma_{yz}^2 - \\sigma_{yy}\\sigma_{xz}^2 - \\sigma_{zz}\\sigma_{xy}^2\n",
    "\\end{aligned}\n",
    "$$\n",
    "\n",
    "### An example in Python\n",
    "\n",
    "For the calculation of the roots $\\sigma_p$ we will use the Python library `functions` that includes functions to calculate the stress tensor invariants and the principal stresses in terms of the components of the stress tensor. Execute the cell below to load the library."
   ]
  },
  {
   "cell_type": "code",
   "execution_count": 1,
   "metadata": {},
   "outputs": [],
   "source": [
    "import functions"
   ]
  },
  {
   "cell_type": "markdown",
   "metadata": {},
   "source": [
    "### Define a stress tensor\n",
    "\n",
    "Set the values of the stresses in the cell below and execute it. The stress tensor will be refreshed with the new values."
   ]
  },
  {
   "cell_type": "code",
   "execution_count": 2,
   "metadata": {},
   "outputs": [
    {
     "name": "stdout",
     "output_type": "stream",
     "text": [
      "[[10 -3  4]\n",
      " [-3  5  2]\n",
      " [-3  2  7]]\n"
     ]
    }
   ],
   "source": [
    "sx = 10\n",
    "sy = 5\n",
    "sz = 7\n",
    "sxy = -3\n",
    "sxz = 4\n",
    "syz = 2\n",
    "\n",
    "functions.print_tensor(sx, sy, sz, sxy, sxz, syz)"
   ]
  },
  {
   "cell_type": "markdown",
   "metadata": {},
   "source": [
    "### Determine the invariants\n",
    "\n",
    "Execute the cell below to determine the invariants of the stress tensor."
   ]
  },
  {
   "cell_type": "code",
   "execution_count": 3,
   "metadata": {},
   "outputs": [
    {
     "name": "stdout",
     "output_type": "stream",
     "text": [
      "I1 = 22\n",
      "I2 = -126\n",
      "I3 = 119\n"
     ]
    }
   ],
   "source": [
    "i1, i2, i3 = functions.calculate_invariants(sx, sy, sz, sxy, sxz, syz)\n",
    "print('I1 = %s' % i1)\n",
    "print('I2 = %s' % i2)\n",
    "print('I3 = %s' % i3)"
   ]
  },
  {
   "cell_type": "markdown",
   "metadata": {},
   "source": [
    "### Calculate the principal stresses\n",
    "\n",
    "Execute the cell below to calculate the stress tensor in principal directions."
   ]
  },
  {
   "cell_type": "code",
   "execution_count": 4,
   "metadata": {},
   "outputs": [
    {
     "name": "stdout",
     "output_type": "stream",
     "text": [
      "[[13.0324921   0.          0.        ]\n",
      " [ 0.          7.79630966  0.        ]\n",
      " [ 0.          0.          1.17119824]]\n"
     ]
    }
   ],
   "source": [
    "s1, s2, s3 = functions.principal_stresses(sx, sy, sz, sxy, sxz, syz)\n",
    "functions.print_tensor(s1, s2, s3)"
   ]
  },
  {
   "cell_type": "markdown",
   "metadata": {},
   "source": [
    "### Mohr's circles\n",
    "\n",
    "To visualize the Mohr's circles, we will use the `plot_Mhor_circles` function. Execute the cell below to show them."
   ]
  },
  {
   "cell_type": "code",
   "execution_count": 5,
   "metadata": {},
   "outputs": [
    {
     "data": {
      "image/png": "[encoded data removed]",
      "text/plain": [
       "<Figure size 432x288 with 1 Axes>"
      ]
     },
     "metadata": {
      "needs_background": "light"
     },
     "output_type": "display_data"
    }
   ],
   "source": [
    "functions.plot_Mhor_circles(s1, s2, s3)"
   ]
  },
  {
   "cell_type": "markdown",
   "metadata": {},
   "source": [
    "## Effective stress\n",
    "\n",
    "The definition of a effective stress $\\overline\\sigma$ for a yield criterion is useful such that yielding occurs when the magnitude of $\\overline\\sigma$ reaches the critical value.\n",
    "\n",
    "For the von Mises yield criterion, the effective stress in terms of the principal stresses is given by:\n",
    "$$\n",
    "\\overline\\sigma = \\sqrt{\\frac{1}{2}\\left[ (\\sigma_1-\\sigma_2)^2 + (\\sigma_2-\\sigma_3)^2 + (\\sigma_3-\\sigma_1)^2 \\right] }\n",
    "$$\n",
    "and for the Tresca yield criterion:\n",
    "$$\n",
    "\\overline\\sigma = \\sigma_\\max - \\sigma_\\min\n",
    "$$\n",
    "\n",
    "Execute the cell below to calculate the effective stress for the exercise above."
   ]
  },
  {
   "cell_type": "code",
   "execution_count": 6,
   "metadata": {},
   "outputs": [
    {
     "name": "stdout",
     "output_type": "stream",
     "text": [
      "Effective stress (Mises) = 10.30 MPa\n",
      "Effective stress (Tresca) = 11.86 MPa\n"
     ]
    }
   ],
   "source": [
    "print('Effective stress (Mises) = %0.2f MPa' % functions.mises(s1, s2, s3))\n",
    "print('Effective stress (Tresca) = %0.2f MPa' % functions.tresca(s1, s2, s3))"
   ]
  },
  {
   "cell_type": "code",
   "execution_count": null,
   "metadata": {},
   "outputs": [],
   "source": []
  }
 ],
 "metadata": {
  "kernelspec": {
   "display_name": "Python 3 (ipykernel)",
   "language": "python",
   "name": "python3"
  },
  "language_info": {
   "codemirror_mode": {
    "name": "ipython",
    "version": 3
   },
   "file_extension": ".py",
   "mimetype": "text/x-python",
   "name": "python",
   "nbconvert_exporter": "python",
   "pygments_lexer": "ipython3",
   "version": "3.9.7"
  }
 },
 "nbformat": 4,
 "nbformat_minor": 4
}
