{
 "cells": [
  {
   "cell_type": "markdown",
   "id": "c013838d",
   "metadata": {},
   "source": [
    "## Hosford, W.F. and Caddell, R.M. (2007), Metal Forming. Mechanics and Metallurgy (3rd ed), Prentice Hall.\n",
    "### Exercise 2.2.\n",
    "\n",
    "Consider a 6-cm diameter tube with 1-mm thick wall with closed ends made\n",
    "from a metal with a tensile yield strength of 25 MPa. Apply a compressive\n",
    "load of 2000 N to the ends. What internal pressure is required to cause yielding\n",
    "according to (a) the Tresca criterion and (b) the von Mises criterion?\n",
    "\n",
    "### Solutions\n",
    "\n",
    "Data: $D=60$ mm, $t=1$ mm, $Y=25$ MPa, $F=-2000$ N.\n",
    "\n",
    "Let assume $\\sigma_r = 0$ through the wall thickness. Equilibrium balances in circumferential and longitudinal directions:\n",
    "\n",
    "$$\n",
    "2 \\sigma_\\theta t L = p D L\n",
    "\\quad\\rightarrow\\quad\n",
    "\\sigma_\\theta = p \\frac{D}{2t} \n",
    "$$\n",
    "\n",
    "$$\n",
    "\\sigma_z \\pi D t = p \\frac{\\pi D^2}{4} + F\n",
    "\\quad\\rightarrow\\quad\n",
    "\\sigma_z = p \\frac{D}{4t} + \\frac{F}{\\pi D t}\n",
    "$$\n",
    "\n",
    "#### Tresca\n",
    "\n",
    "There are two cases depending on the internal pressure $p$:\n",
    "\n",
    "- Case I:\n",
    "$$\n",
    "0 < p < p_{cr} = \\frac{-F}{\\pi D^2 /4}\n",
    "\\quad\\rightarrow\\quad\n",
    "\\sigma_r = 0\n",
    "\\, , \\,\n",
    "\\sigma_\\theta > 0\n",
    "\\, , \\,\n",
    "\\sigma_z < 0\n",
    "\\quad\\rightarrow\\quad\n",
    "\\sigma_\\max - \\sigma_\\min = \\sigma_\\theta - \\sigma_z\n",
    "$$\n",
    "\n",
    "- Case II:\n",
    "$$\n",
    "p > p_{cr} = \\frac{-F}{\\pi D^2 /4}\n",
    "\\quad\\rightarrow\\quad\n",
    "\\sigma_r = 0\n",
    "\\, , \\,\n",
    "\\sigma_\\theta > \\sigma_z > 0\n",
    "\\quad\\rightarrow\\quad\n",
    "\\sigma_\\max - \\sigma_\\min = \\sigma_\\theta - \\sigma_r\n",
    "$$\n",
    "\n",
    "Let us suppose case I. The Tresca criterion yields:\n",
    "$$\n",
    "\\sigma_\\theta(p) - \\sigma_z(p) = Y\n",
    "\\quad\\rightarrow\\quad\n",
    "p \\frac{D}{4t} - \\frac{F}{\\pi D t} = Y\n",
    "\\quad\\rightarrow\\quad\n",
    "p = \\frac{4t}{D}\\left( Y + \\frac{F}{\\pi D t} \\right)\n",
    "$$\n",
    "\n",
    "Run the cell below to validate the assumption:"
   ]
  },
  {
   "cell_type": "code",
   "execution_count": 1,
   "id": "a7a10d82-bc86-4869-9355-ecb642200653",
   "metadata": {},
   "outputs": [
    {
     "name": "stdout",
     "output_type": "stream",
     "text": [
      "p_cr = 0.71 MPa\n",
      "p    = 0.96 MPa\n",
      "The assumption p < p_cr was wrong!\n"
     ]
    }
   ],
   "source": [
    "import math\n",
    "\n",
    "D = 60\n",
    "t = 1\n",
    "Y = 25\n",
    "F = -2000\n",
    "\n",
    "sr = 0\n",
    "def st(p):\n",
    "    return p*D/(2*t)\n",
    "def sz(p):\n",
    "    return p*D/(4*t) + F/(math.pi*D*t)\n",
    "\n",
    "p_cr = -F/(math.pi*D**2/4)\n",
    "print('p_cr = %.2f MPa' % p_cr)\n",
    "\n",
    "p1 = 4*t/D*(Y+F/(math.pi*D*t))\n",
    "print('p    = %.2f MPa' % p1)\n",
    "if p1 < p_cr:\n",
    "    p = p1\n",
    "    print('The assumption p < p_cr was correct.')\n",
    "else:\n",
    "    print('The assumption p < p_cr was wrong!')"
   ]
  },
  {
   "cell_type": "markdown",
   "id": "55a7772a-50ad-4886-a9e2-5ba709d3c06e",
   "metadata": {},
   "source": [
    "If the above assumption was wrong, let us suppose case II. The Tresca criterion yields:\n",
    "$$\n",
    "\\sigma_\\theta(p) - \\sigma_r = Y\n",
    "\\quad\\rightarrow\\quad\n",
    "p \\frac{D}{2t} = Y \n",
    "\\quad\\rightarrow\\quad\n",
    "p = \\frac{2t}{D} Y \n",
    "$$\n",
    "\n",
    "Run the cell below to validate the assumption:"
   ]
  },
  {
   "cell_type": "code",
   "execution_count": 2,
   "id": "a5bbf2df",
   "metadata": {},
   "outputs": [
    {
     "name": "stdout",
     "output_type": "stream",
     "text": [
      "p_cr = 0.71 MPa\n",
      "p    = 0.83 MPa\n",
      "The assumption p > p_cr was correct.\n",
      "Thus, principal stresses can be found as:\n",
      "   sigma_r     = 0\n",
      "   sigma_theta = 25.00 MPa\n",
      "   sigma_z     = 1.89 MPa\n"
     ]
    }
   ],
   "source": [
    "p2 = 2*t/D*Y\n",
    "print('p_cr = %.2f MPa' % p_cr)\n",
    "print('p    = %.2f MPa' % p2)\n",
    "if p2 > p_cr:\n",
    "    p = p2\n",
    "    print('The assumption p > p_cr was correct.')\n",
    "else:\n",
    "    print('The assumption p > p_cr was wrong!')\n",
    "    \n",
    "print(\"Thus, principal stresses can be found as:\")\n",
    "print(\"   sigma_r     = %s\" % sr)\n",
    "print(\"   sigma_theta = %.2f MPa\" % st(p))\n",
    "print(\"   sigma_z     = %.2f MPa\" % sz(p))"
   ]
  },
  {
   "cell_type": "markdown",
   "id": "c02b174f",
   "metadata": {},
   "source": [
    "#### Mises\n",
    "\n",
    "$$ (\\sigma_r^2-\\sigma_\\theta^2) + (\\sigma_r^2-\\sigma_z^2) + (\\sigma_z^2-\\sigma_\\theta^2) = 2 Y^2\n",
    "$$\n",
    "\n",
    "Since $\\sigma_r=0$:\n",
    "\n",
    "$$ \\sigma_\\theta^2 + \\sigma_z^2 - \\sigma_\\theta \\sigma_z = Y^2\n",
    "$$\n",
    "\n",
    "$$ \\left( p \\frac{D}{2t} \\right)^2 + \n",
    "\\left( p \\frac{D}{4t} + \\frac{F}{\\pi D t} \\right)^2 + \n",
    "\\left( p \\frac{D}{2t} \\right) \\left( p \\frac{D}{4t} + \\frac{F}{\\pi D t} \\right) = Y^2\n",
    "$$\n",
    "\n",
    "This is a quadratic equation $A p^2 + B p + C = 0$ that can be solved. Run the next cell to solve it:"
   ]
  },
  {
   "cell_type": "code",
   "execution_count": 3,
   "id": "e3901261",
   "metadata": {},
   "outputs": [
    {
     "name": "stdout",
     "output_type": "stream",
     "text": [
      "Solving the above equation --> p = 0.87 MPa\n",
      "Principal stresses:\n",
      "   sigma_r     = 0\n",
      "   sigma_theta = 26.14 MPa\n",
      "   sigma_z     = 2.46 MPa\n"
     ]
    }
   ],
   "source": [
    "from scipy.optimize import fsolve\n",
    "func = lambda p: st(p)**2 + sz(p)**2 - st(p)*sz(p) - Y**2\n",
    "p3, = fsolve(func, 1)\n",
    "\n",
    "print('Solving the above equation --> p = %.2f MPa' % p3)\n",
    "\n",
    "print(\"Principal stresses:\")\n",
    "print(\"   sigma_r     = %s\" % sr)\n",
    "print(\"   sigma_theta = %.2f MPa\" % st(p3))\n",
    "print(\"   sigma_z     = %.2f MPa\" % sz(p3))"
   ]
  },
  {
   "cell_type": "markdown",
   "id": "e4582ba5",
   "metadata": {},
   "source": [
    "Run the next cell to plot the Tresca and Mises yield surfaces and the stress path, where $\\sigma_1=\\sigma_\\theta$ and $\\sigma_2=\\sigma_z$:"
   ]
  },
  {
   "cell_type": "code",
   "execution_count": 4,
   "id": "aa93c057",
   "metadata": {},
   "outputs": [
    {
     "data": {
      "image/png": "[encoded data removed]",
      "text/plain": [
       "<Figure size 432x288 with 1 Axes>"
      ]
     },
     "metadata": {
      "needs_background": "light"
     },
     "output_type": "display_data"
    }
   ],
   "source": [
    "import functions\n",
    "functions.plot_tresca_mises(Y, st(p3), sz(p3))"
   ]
  },
  {
   "cell_type": "code",
   "execution_count": null,
   "id": "01e5bc85",
   "metadata": {},
   "outputs": [],
   "source": []
  }
 ],
 "metadata": {
  "kernelspec": {
   "display_name": "Python 3 (ipykernel)",
   "language": "python",
   "name": "python3"
  },
  "language_info": {
   "codemirror_mode": {
    "name": "ipython",
    "version": 3
   },
   "file_extension": ".py",
   "mimetype": "text/x-python",
   "name": "python",
   "nbconvert_exporter": "python",
   "pygments_lexer": "ipython3",
   "version": "3.9.7"
  }
 },
 "nbformat": 4,
 "nbformat_minor": 5
}
