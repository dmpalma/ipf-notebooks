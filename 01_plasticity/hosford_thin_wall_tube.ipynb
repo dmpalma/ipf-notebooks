{
 "cells": [
  {
   "cell_type": "markdown",
   "id": "c013838d",
   "metadata": {},
   "source": [
    "## Thin-wall tube\n",
    "### Hosford, W.F. and Caddell, R.M. (2007), Metal Forming. Mechanics and Metallurgy (3rd ed), Prentice Hall. Exercises 2.2, 2.3, 2.4 and 2.8. \n",
    "\n",
    "Consider a thin-wall tube with closed ends made from a metal with a tensile yield strength $Y$ (units in MPa).\n",
    "The tube has a length $L$, a wall thickness $t$ and a diameter $D$ (in mm).\n",
    "In service it will experience an axial load of $F$ (in N) and a torque of $T$ (in Nm).\n",
    "What internal pressure is required to cause yielding\n",
    "according to (a) the Tresca criterion and (b) the von Mises criterion?\n",
    "\n",
    "### Solution\n",
    "\n",
    "Let assume $\\sigma_r = 0$ through the wall thickness. From equilibrium balances in circumferential and longitudinal directions we obtain:\n",
    "\n",
    "$$\n",
    "2 \\cdot \\sigma_\\theta \\cdot t L = p \\cdot D L\n",
    "\\quad\\rightarrow\\quad\n",
    "\\sigma_\\theta = p \\frac{D}{2t} \n",
    "$$\n",
    "\n",
    "$$\n",
    "\\sigma_z \\cdot \\pi D t = p \\cdot \\frac{\\pi D^2}{4} + F\n",
    "\\quad\\rightarrow\\quad\n",
    "\\sigma_z = p \\frac{D}{4t} + \\frac{F}{\\pi D t}\n",
    "$$\n",
    "\n",
    "$$\n",
    "\\tau_{r\\theta} \\cdot \\pi D t \\cdot D/2 = T\n",
    "\\quad\\rightarrow\\quad\n",
    "\\tau_{r\\theta} = \\frac{2 T}{\\pi D^2 t}\n",
    "$$\n",
    "\n",
    "Thus, the stress tensor has the form:\n",
    "\\begin{pmatrix}\n",
    "0 & \\tau_{r\\theta} & 0 \\\\\n",
    "\\tau_{r\\theta} & \\sigma_\\theta & 0 \\\\\n",
    "0 & 0 & \\sigma_z\n",
    "\\end{pmatrix}\n",
    "\n",
    "As can be seen, $z$ is a principal direction but $r$ and $\\theta$ are not. This is due to the torque $T$.\n",
    "\n",
    "#### Mises\n",
    "\n",
    "$$\n",
    "(\\sigma_r-\\sigma_\\theta)^2 + (\\sigma_r-\\sigma_z)^2 + (\\sigma_\\theta-\\sigma_z)^2 + 6 (\\tau_{r\\theta}^2 + \\tau_{rz}^2 + \\tau_{\\theta z}^2) = 2 Y^2\n",
    "$$\n",
    "\n",
    "$$ \\sigma_\\theta^2 + \\sigma_z^2 - \\sigma_\\theta \\sigma_z + 3 \\tau_{r\\theta}^2 = Y^2\n",
    "$$\n",
    "\n",
    "Substituting the above expressions for the stress tensor components $\\sigma_{ij}(p)$ in the Mises criterion we will obtain a yield function in terms of the internals pressure $p$.\n",
    "\n",
    "Set values for variables in the cell below and run it to compute $p$:"
   ]
  },
  {
   "cell_type": "code",
   "execution_count": 1,
   "id": "a5bbf2df",
   "metadata": {},
   "outputs": [
    {
     "name": "stdout",
     "output_type": "stream",
     "text": [
      "Internal pressure that cause yielding: p = 5.21 MPa.\n"
     ]
    }
   ],
   "source": [
    "Y = 250  # units in MPa\n",
    "L = 2000 # mm\n",
    "t = 2    # mm\n",
    "D = 80   # mm\n",
    "F = 8000 # N\n",
    "T = 2700 # Nm\n",
    "\n",
    "params = (Y, t, D, F, T)\n",
    "\n",
    "import hosford_thin_wall_tube as h\n",
    "py = h.compute_p(params)\n",
    "print('Internal pressure that cause yielding: p = %.2f MPa.' % py)"
   ]
  },
  {
   "cell_type": "markdown",
   "id": "4b8c98eb-1b70-4277-9d5d-f3f3618ba8a0",
   "metadata": {},
   "source": [
    "Run the cell below to compute the corresponding principal stresses and plot the Mohr's circles:"
   ]
  },
  {
   "cell_type": "code",
   "execution_count": 2,
   "id": "e8a7fd3d-c281-4340-9d07-960ee9a4774e",
   "metadata": {},
   "outputs": [
    {
     "name": "stdout",
     "output_type": "stream",
     "text": [
      "Stress tensor (in MPa):\n",
      "[[  0.         134.28698323   0.        ]\n",
      " [134.28698323 104.2286937    0.        ]\n",
      " [134.28698323   0.          68.02984116]]\n",
      "Stress tensor in principal directions (in MPa):\n",
      "[[196.15912813   0.           0.        ]\n",
      " [  0.          68.02984116   0.        ]\n",
      " [  0.           0.         -91.93043443]]\n",
      "Principal directions:\n",
      "[[ 0.48608999  0.          0.67831054]\n",
      " [ 0.71005385  0.         -0.4643591 ]\n",
      " [ 0.50945073  1.         -0.5694431 ]]\n",
      "Mohr's circles (where x: radial direction, y: circumferential direction):\n"
     ]
    },
    {
     "data": {
      "image/png": "[encoded data removed]",
      "text/plain": [
       "<Figure size 432x288 with 1 Axes>"
      ]
     },
     "metadata": {
      "needs_background": "light"
     },
     "output_type": "display_data"
    }
   ],
   "source": [
    "h.plot_mohr(params, py)"
   ]
  },
  {
   "cell_type": "markdown",
   "id": "53e7d56c-63f6-4d8f-bb01-9818004cbd8c",
   "metadata": {},
   "source": [
    "### `Iteractive plot`\n",
    "\n",
    "Run the cell below and use the sliders to set different values for the variables, including $p$.\n",
    "\n",
    "**Notes:** A figure with the yield surface in the $\\sigma_1$ vs. $\\sigma_2$ space is included at the end of the `iteractive plot`. Please keep in mind:\n",
    "- The yield surface has been proyected to the $\\sigma_z$ value (in general, a non-zero value) that is reached when the internal pressure causes the material yielding.\n",
    "- Axis $\\sigma_1$ and $\\sigma_2$ in the figure (principal stresses) correspond to the rotated axis $\\sigma_r$ and $\\sigma_\\theta$ (if a torque $T$ is applied).\n",
    "- The computed values of $\\sigma_1$ and $\\sigma_2$ (represented as a red dot) are only valid until the material reach the yield surface (notice that the Flow Rule is not computed in this notebook)."
   ]
  },
  {
   "cell_type": "code",
   "execution_count": 3,
   "id": "701af521",
   "metadata": {},
   "outputs": [
    {
     "data": {
      "application/vnd.jupyter.widget-view+json": {
       "model_id": "42ee95a33bd64a1fb4c6d1a5ae4727e0",
       "version_major": 2,
       "version_minor": 0
      },
      "text/plain": [
       "interactive(children=(IntSlider(value=500, description='$Y$ (MPa):', max=500, min=50, step=50), FloatSlider(va…"
      ]
     },
     "metadata": {},
     "output_type": "display_data"
    }
   ],
   "source": [
    "%matplotlib inline\n",
    "from ipywidgets import interactive, fixed\n",
    "import ipywidgets as widgets\n",
    "\n",
    "wY=widgets.IntSlider(min=50, max=500, step=50, value=500, description=r'$Y$ (MPa):')\n",
    "wt=widgets.FloatSlider(min=0.5, max=10, step=0.1, value=1, description=r'$t$ (mm):')\n",
    "wD=widgets.IntSlider(min=50, max=500, step=10, value=80, description=r'$D$ (mm):')\n",
    "wF=widgets.IntSlider(min=0, max=50000, step=1000, value=8000, description=r'$F$ (N):')\n",
    "wT=widgets.IntSlider(min=0, max=3000, step=100, value=2700, description=r'$T$ (Nm):')\n",
    "wp=widgets.IntSlider(min=0, max=35, step=1, value=0, description=r'$p$ (MPa):')\n",
    "ip=interactive(h.plot_mohr_mises, Y=wY, t=wt, D=wD, F=wF, T=wT, p=wp)\n",
    "ip"
   ]
  },
  {
   "cell_type": "code",
   "execution_count": null,
   "id": "8e124688-b434-45d8-8243-62e59aeda459",
   "metadata": {},
   "outputs": [],
   "source": []
  }
 ],
 "metadata": {
  "kernelspec": {
   "display_name": "Python 3 (ipykernel)",
   "language": "python",
   "name": "python3"
  },
  "language_info": {
   "codemirror_mode": {
    "name": "ipython",
    "version": 3
   },
   "file_extension": ".py",
   "mimetype": "text/x-python",
   "name": "python",
   "nbconvert_exporter": "python",
   "pygments_lexer": "ipython3",
   "version": "3.9.7"
  }
 },
 "nbformat": 4,
 "nbformat_minor": 5
}
