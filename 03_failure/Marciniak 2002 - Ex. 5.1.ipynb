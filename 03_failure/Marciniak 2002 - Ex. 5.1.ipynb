{
 "cells": [
  {
   "cell_type": "markdown",
   "metadata": {},
   "source": [
    "## Marciniak, Duncan, and Hu (2002): _Mechanics of Sheet Metal Forming_.\n",
    "### Exercise 5.1.\n",
    "\n",
    "Cold-rolled steel obeys the law $\\sigma_f = K (\\varepsilon_0 + \\varepsilon)^n$.\n",
    "\n",
    "1. Determine the strain at which the maximum load is reached in a uniform tensile strip.\n",
    "2. What happens when $\\varepsilon_0 > n$?\n",
    "\n",
    "\n",
    "### Solutions\n",
    "\n",
    "$$\n",
    "\\begin{aligned}\n",
    "dF_1 = & d(\\sigma_1 A) = \\sigma_1 dA + A \\, d\\sigma_1 = 0 \\\\\n",
    "\\frac{d\\sigma_1}{\\sigma_1} = & -\\frac{dA}{A} = \\frac{dl}{l} = d\\varepsilon_1 \\\\\n",
    "\\frac{1}{\\sigma_1}\\frac{d\\sigma_1}{d\\varepsilon_1} = & 1\n",
    "\\end{aligned}\n",
    "$$\n",
    "\n",
    "For the law $\\sigma_f = K (\\varepsilon_0 + \\varepsilon)^n$ and uniaxial tension:\n",
    "$$\n",
    "\\begin{aligned}\n",
    "\\sigma_1 = & K (\\varepsilon_0+\\varepsilon_1)^{n} \\\\\n",
    "\\frac{d\\sigma_1}{d\\varepsilon_1} = & K \\, n (\\varepsilon_0+\\varepsilon_1)^{n-1} \\\\\n",
    "\\frac{1}{\\sigma_1}\\frac{d\\sigma_1}{d\\varepsilon_1} = & \\frac{n}{\\varepsilon_0+\\varepsilon_1}\n",
    "\\end{aligned}\n",
    "$$\n",
    "\n",
    "Therefore:\n",
    "$$\n",
    "\\begin{aligned}\n",
    "\\frac{n}{\\varepsilon_0+\\varepsilon_1^*} = 1 \\\\\n",
    "\\varepsilon_1^* = n - \\varepsilon_0\n",
    "\\end{aligned}\n",
    "$$\n",
    "\n",
    "If $\\varepsilon_0$ were greater than $n$, the necking strain would be negative according to the above equation, which makes no sense. Therefore, the sheet would be plastically unstable from the beginning of the process: $\\varepsilon_1^* = 0$."
   ]
  }
 ],
 "metadata": {
  "kernelspec": {
   "display_name": "Python [default]",
   "language": "python",
   "name": "python3"
  },
  "language_info": {
   "codemirror_mode": {
    "name": "ipython",
    "version": 3
   },
   "file_extension": ".py",
   "mimetype": "text/x-python",
   "name": "python",
   "nbconvert_exporter": "python",
   "pygments_lexer": "ipython3",
   "version": "3.5.3"
  }
 },
 "nbformat": 4,
 "nbformat_minor": 4
}
