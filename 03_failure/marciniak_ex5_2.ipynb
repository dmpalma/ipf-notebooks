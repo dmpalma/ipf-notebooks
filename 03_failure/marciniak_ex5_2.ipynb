{
 "cells": [
  {
   "cell_type": "markdown",
   "metadata": {},
   "source": [
    "## Marciniak, Duncan, and Hu (2002): _Mechanics of Sheet Metal Forming_.\n",
    "### Exercise 5.2.\n",
    "\n",
    "Figure shows a 100 mm length of a tensile test-piece in which 10 mm has a\n",
    "width of 12.4 mm and the remainder 12.5 mm. The thickness is uniform at the start, $t_0 =\n",
    "1.2$ mm. The material obeys an effective stress strain law $\\overline\\sigma = 750 \\overline\\varepsilon^{0.22}$ MPa. Assuming\n",
    "that each length deforms in uniaxial tension, determine the maximum load and the final\n",
    "length of a 20 mm gauge length in the wider section and the maximum strain in this\n",
    "section.\n",
    "\n",
    "<img src=\"marciniak_ex5_2.png\" alt=\"Dimensions of test-piece for Exercise 5.2\" width=\"320\"/>\n",
    "\n",
    "Figure. Dimensions of test-piece for Exercise 5.2.\n",
    "\n",
    "\n",
    "\n",
    "### Solutions\n",
    "\n",
    "Let's call A the wide zone and B the narrow one. The maximum force (diffuse necking) will occur in B. For a potential law $\\overline\\sigma = K\\overline\\varepsilon^n$, the plastic instability can be expressed as:\n",
    "$$\n",
    "\\varepsilon_{1,\\text{B}} = n\n",
    "$$\n",
    "\n",
    "#### Procedure\n",
    "\n",
    "1. Calculate the strains in B ($\\varepsilon_{2,\\text{B}}$, $\\varepsilon_{3,\\text{B}}$, $\\overline\\varepsilon_{\\text{B}}$) by the uniaxial tension condition: $\\alpha=0$, $\\beta=-1/2$.\n",
    "    $$\n",
    "    \\varepsilon_{2,\\text{B}} = \\varepsilon_{3,\\text{B}} = -n/2 \\quad , \\quad\n",
    "    \\overline\\varepsilon_\\text{B} = \\varepsilon_{1,\\text{B}} = n\n",
    "    $$\n",
    "\n",
    "Execute the cell below to perform the calculations:"
   ]
  },
  {
   "cell_type": "code",
   "execution_count": 1,
   "metadata": {},
   "outputs": [
    {
     "name": "stdout",
     "output_type": "stream",
     "text": [
      "e1B = 0.220, e2B = -0.110, e2B = -0.110, eB = 0.220\n"
     ]
    }
   ],
   "source": [
    "import math\n",
    "\n",
    "w0A = 12.5\n",
    "w0B = 12.4\n",
    "t0 = 1.2\n",
    "K = 750\n",
    "n = 0.22\n",
    "seff = lambda eeff: K*eeff**n     # efective stress seff as a function of the effective strain eeff\n",
    "\n",
    "alpha = 0\n",
    "beta = -1/2\n",
    "\n",
    "e1B = n\n",
    "e2B = -n/2\n",
    "e3B = -n/2\n",
    "eB = n\n",
    "print(\"e1B = %.3f, e2B = %.3f, e2B = %.3f, eB = %.3f\" % (e1B, e2B, e3B, eB))"
   ]
  },
  {
   "cell_type": "markdown",
   "metadata": {},
   "source": [
    "2. Calculate the width and thickness in B.\n",
    "    $$\n",
    "    t_B = t_0 \\exp{(\\varepsilon_{3,\\text{B}})} = t_0 \\text{e}^{-n/2} \\\\\n",
    "    w_B = w_{0,\\text{B}} \\exp{(\\varepsilon_{2,\\text{B}})} = w_{0,\\text{B}} \\text{e}^{-n/2} \n",
    "    $$\n",
    "\n"
   ]
  },
  {
   "cell_type": "code",
   "execution_count": 2,
   "metadata": {},
   "outputs": [
    {
     "name": "stdout",
     "output_type": "stream",
     "text": [
      "tB = 1.075 mm, wB = 11.108 mm\n"
     ]
    }
   ],
   "source": [
    "tB = t0*math.exp(e3B)\n",
    "wB = w0B*math.exp(e2B)\n",
    "print(\"tB = %.3f mm, wB = %.3f mm\" % (tB, wB))"
   ]
  },
  {
   "cell_type": "markdown",
   "metadata": {},
   "source": [
    "3. Calculate the effective stress and the major stress in B.\n",
    "$$\n",
    "\\overline\\sigma_\\text{B} = K\\overline\\varepsilon_\\text{B}^n = K \\, n^n\n",
    "$$\n",
    "\n",
    "$$\n",
    "\\alpha = 0 \\rightarrow \\sigma_{1,\\text{B}} =\\overline\\sigma\n",
    "$$"
   ]
  },
  {
   "cell_type": "code",
   "execution_count": 3,
   "metadata": {},
   "outputs": [
    {
     "name": "stdout",
     "output_type": "stream",
     "text": [
      "sB = 537.5 MPa, s1B = 537.5 MPa\n"
     ]
    }
   ],
   "source": [
    "sB = seff(eB)\n",
    "s1B = sB\n",
    "print(\"sB = %.1f MPa, s1B = %.1f MPa\" % (sB, s1B))"
   ]
  },
  {
   "cell_type": "markdown",
   "metadata": {},
   "source": [
    "4. Calculate the applied force by equilibrium with the stresses in B.\n",
    "    $$\n",
    "    F_1 = \\sigma_{1,\\text{B}} \\, t_\\text{B} \\, w_\\text{B} = K \\, n^n \\cdot t_0 \\text{e}^{-n/2} \\cdot w_{0,\\text{B}} \\text{e}^{-n/2} =  K t_0 w_{0,\\text{B}} \\cdot n^n \\text{e}^{-n} \n",
    "    $$\n"
   ]
  },
  {
   "cell_type": "code",
   "execution_count": 4,
   "metadata": {},
   "outputs": [
    {
     "name": "stdout",
     "output_type": "stream",
     "text": [
      "F1 = 6.42 kN\n"
     ]
    }
   ],
   "source": [
    "F1 = K*n**n * t0*w0B*math.exp(-n)\n",
    "print('F1 = %.2f kN' % (F1/1000))"
   ]
  },
  {
   "cell_type": "markdown",
   "metadata": {},
   "source": [
    "5. The equilibrium in A will provide an equation for the calculation of major strain $\\varepsilon_{1,\\text{A}}$.\n",
    "\n",
    "Force in A:\n",
    "$$ F_1 = \\sigma_{1,\\text{A}} \\, t_\\text{A} \\, w_\\text{A} = K \\, \\varepsilon_{1,A}^n \\cdot t_0 \\text{e}^{-\\varepsilon_{1,A}/2} \\cdot w_{0,\\text{A}} \\text{e}^{-\\varepsilon_{1,A}/2} =  K t_0 w_{0,\\text{A}} \\cdot \\varepsilon_{1,A}^n \\text{e}^{-\\varepsilon_{1,A}} $$\n",
    "\n",
    "where the material at A is also in uniaxial tension condition ($\\alpha=0$, $\\beta=-1/2$ $\\rightarrow$ $\\varepsilon_{2,A}=\\varepsilon_{3,A}=-\\varepsilon_{1,A}/2$).\n",
    "\n",
    "Force balance in A and B:\n",
    "$$ w_{0,\\text{A}} \\varepsilon_{1,A}^n \\text{e}^{-\\varepsilon_{1,A}} = w_{0,\\text{B}}  n^n \\text{e}^{-n} $$"
   ]
  },
  {
   "cell_type": "code",
   "execution_count": 5,
   "metadata": {},
   "outputs": [
    {
     "name": "stdout",
     "output_type": "stream",
     "text": [
      "e1A = 0.166\n"
     ]
    }
   ],
   "source": [
    "# solving the last equation with function scipy.optimize.fsolve\n",
    "\n",
    "from scipy.optimize import fsolve\n",
    "\n",
    "func = lambda x : w0A*x**n*math.exp(-x) - w0B*n**n*math.exp(-n)\n",
    "e1A = fsolve(func, 0.2)\n",
    "print('e1A = %.3f' % e1A)"
   ]
  },
  {
   "cell_type": "code",
   "execution_count": 6,
   "metadata": {},
   "outputs": [
    {
     "name": "stdout",
     "output_type": "stream",
     "text": [
      "Trial and error for the calculation of e1A until F1 = 6419 N is reached:\n",
      "  e1A = 0.220 --> F1 = 6471 N\n",
      "  e1A = 0.150 --> F1 = 6379 N\n",
      "  e1A = 0.170 --> F1 = 6427 N\n",
      "  e1A = 0.166 --> F1 = 6419 N\n",
      "Solution: e1A = 0.166\n"
     ]
    }
   ],
   "source": [
    "# An alternative method is to iterate over e1A until the force F1 is reached\n",
    "\n",
    "F1A = lambda x: K*t0*w0A * x**n * math.exp(-x)\n",
    "\n",
    "e1A = n\n",
    "print('Trial and error for the calculation of e1A until F1 = %.0f N is reached:' % F1)\n",
    "print('  e1A = %.3f --> F1 = %.0f N' % (e1A, F1A(e1A)))\n",
    "e1A = 0.15\n",
    "print('  e1A = %.3f --> F1 = %.0f N' % (e1A, F1A(e1A)))\n",
    "e1A = 0.17\n",
    "print('  e1A = %.3f --> F1 = %.0f N' % (e1A, F1A(e1A)))\n",
    "e1A = 0.166\n",
    "print('  e1A = %.3f --> F1 = %.0f N' % (e1A, F1A(e1A)))\n",
    "print('Solution: e1A = %.3f' % e1A)"
   ]
  },
  {
   "cell_type": "code",
   "execution_count": 7,
   "metadata": {},
   "outputs": [
    {
     "data": {
      "image/png": "[encoded data removed]",
      "text/plain": [
       "<Figure size 432x288 with 1 Axes>"
      ]
     },
     "metadata": {
      "needs_background": "light"
     },
     "output_type": "display_data"
    }
   ],
   "source": [
    "from ex5_2 import *\n",
    "plot_force(K, n, t0, w0A, w0B, F1, e1A)"
   ]
  },
  {
   "cell_type": "markdown",
   "metadata": {},
   "source": [
    "6. Calculate the final length of a $l_{0,\\text{A}} = 20$ mm gauge length in A:\n",
    "    $$\n",
    "    l_A = l_{0,\\text{A}} \\exp{(\\varepsilon_{1,\\text{A}})}\n",
    "    $$"
   ]
  },
  {
   "cell_type": "code",
   "execution_count": 8,
   "metadata": {},
   "outputs": [
    {
     "name": "stdout",
     "output_type": "stream",
     "text": [
      "Gauge length: l0A = 20 mm --> lA = 23.6 mm\n"
     ]
    }
   ],
   "source": [
    "l0A = 20\n",
    "lA = l0A*math.exp(e1A)\n",
    "print('Gauge length: l0A = 20 mm --> lA = %.1f mm' % lA)"
   ]
  },
  {
   "cell_type": "code",
   "execution_count": null,
   "metadata": {},
   "outputs": [],
   "source": []
  }
 ],
 "metadata": {
  "kernelspec": {
   "display_name": "Python 3 (ipykernel)",
   "language": "python",
   "name": "python3"
  },
  "language_info": {
   "codemirror_mode": {
    "name": "ipython",
    "version": 3
   },
   "file_extension": ".py",
   "mimetype": "text/x-python",
   "name": "python",
   "nbconvert_exporter": "python",
   "pygments_lexer": "ipython3",
   "version": "3.9.7"
  }
 },
 "nbformat": 4,
 "nbformat_minor": 4
}
