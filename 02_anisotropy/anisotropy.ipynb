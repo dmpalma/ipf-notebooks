{
 "cells": [
  {
   "cell_type": "markdown",
   "metadata": {},
   "source": [
    "## Yield surface\n",
    "\n",
    "Horford's non-quadratic yield criterion for anisotropic materials in plane stress ($\\sigma_3=0$):\n",
    "$$\n",
    "\\overline\\sigma = \\sigma_1 \\left( \\frac{r_{90}+r_0\\,\\alpha^a+r_0 \\, r_{90}(1-\\alpha)^a}{r_{90}(1+r_0)} \\right)^{1/a}\n",
    "$$\n",
    "where $r_0$ and $r_{90}$ are the Lankford's coefficients along the rolling (0°) and transverse (90°) directions, respectively. This criterion reduces to the Hill's quadratic yield criterion by setting $a = 2$. For isotropic materials ($r_0 = r_{90} = 1$), it reduces to the Mises's yield criterion by setting $a = 2$ or $a = 4$, and to the Tresca's criterion by setting $a = 1$ or $a = \\infty$. The suggested values for the exponent are $a = 6$ for BCC metals and $a = 8$ for FCC materials."
   ]
  },
  {
   "cell_type": "code",
   "execution_count": 1,
   "metadata": {},
   "outputs": [
    {
     "data": {
      "application/vnd.jupyter.widget-view+json": {
       "model_id": "daa577f98c5f46a086243c29104f4a65",
       "version_major": 2,
       "version_minor": 0
      },
      "text/plain": [
       "interactive(children=(IntSlider(value=300, description='sy', max=500, min=50), FloatSlider(value=1.2, descript…"
      ]
     },
     "metadata": {},
     "output_type": "display_data"
    }
   ],
   "source": [
    "%matplotlib inline\n",
    "from ipywidgets import interactive, fixed\n",
    "from anisotropy import plot_ys\n",
    "ip=interactive(plot_ys, sy=(50,500), r0=(0.5,2,0.01), r90=(0.5,2,0.01), a=(2,8))\n",
    "ip"
   ]
  }
 ],
 "metadata": {
  "kernelspec": {
   "display_name": "Python [default]",
   "language": "python",
   "name": "python3"
  },
  "language_info": {
   "codemirror_mode": {
    "name": "ipython",
    "version": 3
   },
   "file_extension": ".py",
   "mimetype": "text/x-python",
   "name": "python",
   "nbconvert_exporter": "python",
   "pygments_lexer": "ipython3",
   "version": "3.5.3"
  }
 },
 "nbformat": 4,
 "nbformat_minor": 4
}
