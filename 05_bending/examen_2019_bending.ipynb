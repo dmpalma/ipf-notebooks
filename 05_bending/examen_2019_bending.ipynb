{
 "cells": [
  {
   "cell_type": "markdown",
   "metadata": {
    "tags": []
   },
   "source": [
    "## Procesos de Fabricación Aeronáutica - Máster Universitario en Ingeniería Aeronáutica\n",
    "### Problema de plegado, examen parcial 17/12/2019\n",
    "\n",
    "Una chapa de aleación de aluminio de 1 m de largo, 40 mm de ancho y 1.2 mm de espesor se pliega para formar un tubo circular de 1 m de largo. El material puede suponerse elasto-plástico perfecto con unas constantes $E=70$ GPa, $\\nu=0.3$ y $\\sigma_y=250$ MPa. Suponga que la chapa plastifica completamente cuando se pliega y que la distancia entre los bordes al separarse durante la descarga es pequeña. Se pide calcular:\n",
    "\n",
    "1. Relación $S/E'$ del material en deformación plana.\n",
    "2. Ángulo recuperado después de la descarga.\n",
    "3. Distancia entre los bordes de la chapa tras la descarga.\n",
    "4. Radio después de la recuperación elástica.\n",
    "5. Reducción de área mínima del material (en un ensayo de tracción) para que pueda fabricarse el tubo sin fallo del material.\n",
    "\n",
    "Recuerde las expresiones:\n",
    "$$\\Delta\\theta=-3\\frac{S}{E'}\\frac{\\rho_0}{t}\\theta \\quad , \\quad \\frac{R}{t}=\\frac{0.5}{r}-1$$\n",
    "\n",
    "#### Solución"
   ]
  },
  {
   "cell_type": "code",
   "execution_count": 1,
   "metadata": {},
   "outputs": [],
   "source": [
    "w = 40\n",
    "t = 1.2\n",
    "E = 70e3\n",
    "ν = 0.3\n",
    "σy = 250"
   ]
  },
  {
   "cell_type": "markdown",
   "metadata": {},
   "source": [
    "#### 1. Relación $S/E'$ del material en deformación plana.\n",
    "\n",
    "$$\n",
    "E' = \\frac{E}{1-\\nu^2}\n",
    "$$\n",
    "$$\n",
    "\\beta = 0 \\quad\\rightarrow\\quad\n",
    "\\alpha = 1/2 \\quad\\rightarrow\\quad\n",
    "\\sigma_y = S \\sqrt{1-\\alpha+\\alpha^2} = \\frac{2}{\\sqrt{3}} S \\quad\\rightarrow\\quad\n",
    "S =  \\frac{\\sqrt{3}}{2} \\sigma_y\n",
    "$$\n"
   ]
  },
  {
   "cell_type": "code",
   "execution_count": 2,
   "metadata": {},
   "outputs": [
    {
     "name": "stdout",
     "output_type": "stream",
     "text": [
      "Ep = 76.9 GPa\n",
      "S = 288.7 MPa\n",
      "S/Ep = 0.00375\n"
     ]
    }
   ],
   "source": [
    "import math\n",
    "Ep = E/(1-ν**2)\n",
    "S = σy/(math.sqrt(3)/2)\n",
    "print('Ep = %.1f GPa' % (Ep*1e-3))\n",
    "print('S = %.1f MPa' % S)\n",
    "print('S/Ep = %.5f' % (S/Ep))"
   ]
  },
  {
   "cell_type": "markdown",
   "metadata": {},
   "source": [
    "#### 2. Ángulo recuperado después de la descarga.\n",
    "\n",
    "Al plegar la chapa para formar el tubo, el ángulo de doblado es $\\theta=2\\pi$ y perímetro del círculo es $w=2\\pi\\rho_0$, por tanto:\n",
    "$$\n",
    "\\rho_0 = \\frac{w}{2 \\pi}\n",
    "$$\n",
    "\n",
    "El ángulo recuperado se obtiene aplicando la fórmula:\n",
    "$$\n",
    "\\Delta\\theta=-3\\frac{S}{E'}\\frac{\\rho_0}{t}\\theta\n",
    "$$\n",
    "que será negativo en el sentido de que el tubo se abre. También se puede usar un signo $+$ en la fórmula siempre y cuando la interpretación del valor sea la correcta."
   ]
  },
  {
   "cell_type": "code",
   "execution_count": 3,
   "metadata": {},
   "outputs": [
    {
     "name": "stdout",
     "output_type": "stream",
     "text": [
      "rho0 = 6.37 mm\n",
      "Dtheta = 0.375 rad = 21.5°\n"
     ]
    }
   ],
   "source": [
    "rho0 = w/(2*math.pi)\n",
    "theta = 2*math.pi\n",
    "Dtheta = 3*S/Ep*rho0/t*theta\n",
    "print('rho0 = %.2f mm' % rho0)\n",
    "print('Dtheta = %.3f rad = %.1f°' % (Dtheta, math.degrees(Dtheta)))"
   ]
  },
  {
   "cell_type": "markdown",
   "metadata": {},
   "source": [
    "#### 3. Radio después de la recuperación elástica.\n",
    "\n",
    "El ángulo final del tubo abierto es $\\theta_f = \\theta - \\Delta\\theta$, donde se ha tomado $\\Delta\\theta>0$. El radio será entonces:\n",
    "$$\n",
    "\\rho_f = \\frac{w}{\\theta_f} = \\frac{w}{\\theta - \\Delta\\theta}\n",
    "$$"
   ]
  },
  {
   "cell_type": "code",
   "execution_count": 4,
   "metadata": {},
   "outputs": [
    {
     "name": "stdout",
     "output_type": "stream",
     "text": [
      "thetaf = 5.91 rad = 338.5°\n",
      "rhof = 6.77 mm\n"
     ]
    }
   ],
   "source": [
    "thetaf = theta - Dtheta\n",
    "rhof = w/thetaf\n",
    "print('thetaf = %.2f rad = %.1f°' % (thetaf, math.degrees(thetaf)))\n",
    "print('rhof = %.2f mm' % rhof)"
   ]
  },
  {
   "cell_type": "markdown",
   "metadata": {},
   "source": [
    "#### 4. Distancia entre los bordes de la chapa tras la descarga.\n",
    "\n",
    "Si se supone que la distancia entre los bordes al separarse durante la descarga es pequeña, entonces puede aproximarse por el arco de la circunferencia:\n",
    "$$d \\approx \\rho_f \\Delta\\theta$$"
   ]
  },
  {
   "cell_type": "code",
   "execution_count": 5,
   "metadata": {},
   "outputs": [
    {
     "name": "stdout",
     "output_type": "stream",
     "text": [
      "d = 2.54 mm\n"
     ]
    }
   ],
   "source": [
    "d = rhof*Dtheta\n",
    "print('d = %.2f mm' % d)"
   ]
  },
  {
   "cell_type": "markdown",
   "metadata": {},
   "source": [
    "También puede obtenerse el valor exacto por trigonometría:\n",
    "$$\n",
    "\\frac{d}{2} = \\rho_f \\sin\\frac{\\Delta\\theta}{2}\n",
    "$$"
   ]
  },
  {
   "cell_type": "code",
   "execution_count": 6,
   "metadata": {},
   "outputs": [
    {
     "name": "stdout",
     "output_type": "stream",
     "text": [
      "d = 2.53 mm\n"
     ]
    }
   ],
   "source": [
    "d = 2*rhof*math.sin(Dtheta/2)\n",
    "print('d = %.2f mm' % d)"
   ]
  },
  {
   "cell_type": "markdown",
   "metadata": {},
   "source": [
    "#### 5. Reducción de área mínima del material (en un ensayo de tracción) para que pueda fabricarse el tubo sin fallo del material.\n",
    "\n",
    "La reducción de área $r$ se usa en la siguiente expresión para evaluar el radio mínimo de plegado sin que se produzcan grietas en la superficie convexa de la chapa:\n",
    "$$\n",
    "\\frac{R}{t} > \\frac{0.5}{r}-1\n",
    "$$\n",
    "donde $R$ es el radio de la herramienta utiliza para formar el tubo y, por tanto, también es el radio de la cara cóncava de la chapa. La reducción de área mínima sería:\n",
    "$$\n",
    "r_{\\min} = \\frac{0.5}{R/t+1}\n",
    "$$\n",
    "\n",
    "En situaciones de grandes curvaturas ($R/t>4$), la fibra neutra puede suponerse situada en la superficie media de la chapa. Por tanto:\n",
    "$$\n",
    "R = \\rho_0 - t/2\n",
    "$$\n",
    "Sustituyendo:\n",
    "$$\n",
    "r_{\\min} = \\frac{0.5}{\\rho_0/t+1/2} = \\frac{1}{2\\rho_0/t+1}\n",
    "$$\n"
   ]
  },
  {
   "cell_type": "code",
   "execution_count": 7,
   "metadata": {},
   "outputs": [
    {
     "name": "stdout",
     "output_type": "stream",
     "text": [
      "R = 5.77 mm\n",
      "rmin = 8.61%\n"
     ]
    }
   ],
   "source": [
    "R = rho0 - t/2\n",
    "rmin = 0.5/(R/t+1)\n",
    "print('R = %.2f mm' % R)\n",
    "print('rmin = ' + '{:.2%}'.format(rmin))"
   ]
  }
 ],
 "metadata": {
  "kernelspec": {
   "display_name": "Python 3 (ipykernel)",
   "language": "python",
   "name": "python3"
  },
  "language_info": {
   "codemirror_mode": {
    "name": "ipython",
    "version": 3
   },
   "file_extension": ".py",
   "mimetype": "text/x-python",
   "name": "python",
   "nbconvert_exporter": "python",
   "pygments_lexer": "ipython3",
   "version": "3.9.7"
  }
 },
 "nbformat": 4,
 "nbformat_minor": 4
}
