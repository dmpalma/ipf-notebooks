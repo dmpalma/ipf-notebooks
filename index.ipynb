{
 "cells": [
  {
   "cell_type": "markdown",
   "metadata": {},
   "source": [
    "# Analysis of Sheet Metal Forming with Jupyter Notebooks\n",
    "\n",
    "## Table of contents\n",
    "\n",
    "1. Basis of Plasticity\n",
    "    * [Calculating the principal stresses](01_plasticity/stress_tensor.ipynb)\n",
    "    * Exercises: Marciniak, Duncan, and Hu (2002): _Mechanics of Sheet Metal Forming_.\n",
    "        * [Exercise 2.1](01_plasticity/marciniak_ex2_1.ipynb)\n",
    "        * [Exercise 3.1](01_plasticity/marciniak_ex3_1.ipynb)\n",
    "        * [Exercise 3.2](01_plasticity/marciniak_ex3_2.ipynb)\n",
    "        * [Exercise 3.3](01_plasticity/marciniak_ex3_3.ipynb)\n",
    "    * Exercises: Hosford, W.F. and Caddell, R.M. (2007), _Metal Forming. Mechanics and Metallurgy (3rd ed)_.\n",
    "        * [Exercise 2.2](01_plasticity/hosford_ex2_2.ipynb)\n",
    "        * [Thin-wall tube (exercises 2.2, 2.3, 2.4 and 2.8)](01_plasticity/hosford_thin_wall_tube.ipynb)\n",
    "1. Effect of Anisotropy on Sheet Metal Forming\n",
    "    * [Yield surface](02_anisotropy/anisotropy.ipynb)\n",
    "1. Instability and Failure in Sheet Metal Forming\n",
    "    * [Diffuse necking: Swift's model](03_failure/necking_Swift.ipynb)\n",
    "    * [Localized necking: Hill's model](03_failure/necking_Hill.ipynb)\n",
    "    * Exercises: Marciniak, Duncan, and Hu (2002): _Mechanics of Sheet Metal Forming_.\n",
    "        * [Exercise 5.1](03_failure/marciniak_ex5_1.ipynb)\n",
    "        * [Exercise 5.2](03_failure/marciniak_ex5_2.ipynb)\n",
    "        * [Exercise 5.3](03_failure/marciniak_ex5_5.ipynb)\n",
    "    * [Exam exercise 2019: sheet metal forming of a cone part by SPIF (in spanish)](03_failure/examen_2019_SPIF.ipynb)\n",
    "1. Simplified stamping/stretching analysis\n",
    "    * Exercises: Marciniak, Duncan, and Hu (2002): _Mechanics of Sheet Metal Forming_.\n",
    "        * [(Worked example) 2D stamping](04_stamping/marciniak_stamping_example.ipynb)\n",
    "    * [Exam exercise 2018: stretching (in spanish)](04_stamping/examen_2018_stamping.ipynb)\n",
    "    * [Exam exercise 2019: stamping (in spanish)](04_stamping/examen_2019_stretching.ipynb)\n",
    "1. Bending of sheet\n",
    "    * [Simplified sheet bending analysis](05_bending/bending.ipynb)\n",
    "    * [Exam exercise 2019: bending (in spanish)](05_bending/examen_2019_bending.ipynb)"
   ]
  },
  {
   "cell_type": "code",
   "execution_count": null,
   "metadata": {},
   "outputs": [],
   "source": []
  }
 ],
 "metadata": {
  "kernelspec": {
   "display_name": "Python [default]",
   "language": "python",
   "name": "python3"
  },
  "language_info": {
   "codemirror_mode": {
    "name": "ipython",
    "version": 3
   },
   "file_extension": ".py",
   "mimetype": "text/x-python",
   "name": "python",
   "nbconvert_exporter": "python",
   "pygments_lexer": "ipython3",
   "version": "3.5.3"
  }
 },
 "nbformat": 4,
 "nbformat_minor": 4
}
