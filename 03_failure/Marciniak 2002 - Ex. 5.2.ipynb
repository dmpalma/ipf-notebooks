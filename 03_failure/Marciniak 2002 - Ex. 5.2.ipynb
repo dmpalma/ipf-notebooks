{
 "cells": [
  {
   "cell_type": "markdown",
   "metadata": {},
   "source": [
    "## Marciniak, Duncan, and Hu (2002): _Mechanics of Sheet Metal Forming_.\n",
    "### Exercise 5.2.\n",
    "\n",
    "Figure 5.25 shows a 100 mm length of a tensile test-piece in which 10 mm has a\n",
    "width of 12.4 mm and the remainder 12.5 mm. The thickness is uniform at the start, $t_0 =\n",
    "1.2$ mm. The material obeys an effective stress strain law $\\overline\\sigma = 750 \\overline\\varepsilon^{0.22}$ MPa. Assuming\n",
    "that each length deforms in uniaxial tension, determine the maximum load and the final\n",
    "length of a 20 mm gauge length in the wider section and the maximum strain in this\n",
    "section.\n",
    "\n",
    "<img src=\"Marciniak 2002 - Ex. 5.25 - Figure.png\" alt=\"Dimensions of test-piece for Exercise 5.2\" width=\"320\"/>\n",
    "\n",
    "Figure 5.25. Dimensions of test-piece for Exercise 5.2.\n",
    "\n",
    "\n",
    "\n",
    "### Solutions\n",
    "\n",
    "Let's call A the wide zone and B the narrow one. The maximum force (diffuse necking) will occur in B. For a potential law $\\overline\\sigma = K\\overline\\varepsilon^n$, the plastic instability can be expressed as:\n",
    "$$\n",
    "\\varepsilon_{1,\\text{B}} = n\n",
    "$$\n",
    "\n",
    "Procedure:\n",
    "1. Calculate the strains in B ($\\varepsilon_{2,\\text{B}}$, $\\varepsilon_{3,\\text{B}}$, $\\overline\\varepsilon_{\\text{B}}$) by the uniaxial tension condition: $\\alpha=0$, $\\beta=-1/2$.\n",
    "    $$\n",
    "    \\varepsilon_{2,\\text{B}} = \\varepsilon_{3,\\text{B}} = -n/2 \\quad , \\quad\n",
    "    \\overline\\varepsilon = \\varepsilon_{1,\\text{B}} = n\n",
    "    $$\n",
    "2. Calculate the width and thickness in B.\n",
    "    $$\n",
    "    t_B = t_0 \\exp{(\\varepsilon_{3,\\text{B}})} = t_0 \\text{e}^{-n/2} \\\\\n",
    "    w_B = w_{0,\\text{B}} \\exp{(\\varepsilon_{2,\\text{B}})} = w_{0,\\text{B}} \\text{e}^{-n/2} \n",
    "    $$\n",
    "3. Calculate the effective stress.\n",
    "$$\n",
    "\\overline\\sigma = K\\overline\\varepsilon^n = K \\, n^n\n",
    "$$\n",
    "4. Calculate the major stress in B.\n",
    "    $$\n",
    "    \\sigma_{1,B} =\\overline\\sigma = K \\, n^n\n",
    "    $$\n",
    "5. Calculate the applied force by equilibrium with the stresses in B.\n",
    "    $$\n",
    "    F_1 = \\sigma_{1,B} \\, t_B \\, w_B = K \\, n^n \\cdot t_0 \\text{e}^{-n/2} \\cdot w_0 \\text{e}^{-n/2} =  K \\, n^n t_0 w_0 \\text{e}^{-n} \n",
    "    $$\n",
    "6. The equilibrium in A will provide an equation for the calculation of major strain $\\varepsilon_{1,\\text{A}}$.\n",
    "    $$\n",
    "    F_1 = \\sigma_{1,A} \\, t_A \\, w_A = K \\, \\varepsilon_{1,A}^n \\cdot t_0 \\exp{(-\\varepsilon_{1,A}/2)} \\cdot w_0 \\exp{(-\\varepsilon_{1,A}/2)} =  K \\, \\varepsilon_{1,A}^n t_0 w_0 \\exp{(-\\varepsilon_{1,A})}\n",
    "    $$\n",
    "7. Calculate the final length of a $l_{0,\\text{A}} = 20$ mm gauge length in A:\n",
    "    $$\n",
    "    l_A = l_{0,\\text{A}} \\exp{(\\varepsilon_{1,\\text{A}})}\n",
    "    $$\n",
    "\n",
    "\n",
    "### Example with Python"
   ]
  },
  {
   "cell_type": "code",
   "execution_count": 1,
   "metadata": {},
   "outputs": [
    {
     "name": "stdout",
     "output_type": "stream",
     "text": [
      "Force: F1 = 6.42 kN\n",
      "Trial and error for the calculation of e1A:\n",
      "  e1A = 0.220 --> F1 = 6471 N\n",
      "  e1A = 0.150 --> F1 = 6379 N\n",
      "  e1A = 0.170 --> F1 = 6427 N\n",
      "  e1A = 0.166 --> F1 = 6419 N\n",
      "Solution: e1A = 0.166\n",
      "Gauge length: l0A = 20 mm --> lA = 23.6 mm\n"
     ]
    }
   ],
   "source": [
    "import math\n",
    "\n",
    "w0A = 12.5\n",
    "w0B = 12.4\n",
    "t0 = 1.2\n",
    "K = 750\n",
    "n = 0.22\n",
    "s = lambda e: K*e**n\n",
    "\n",
    "T1 = K*n**n * t0*w0B*math.exp(-n)                  # equilibrium in B\n",
    "print('Force: F1 = %.2f kN' % (T1/1000))\n",
    "\n",
    "fT1 = lambda e1A: K*e1A**n * t0*w0A*math.exp(-e1A) # equilibrium in A\n",
    "\n",
    "e1A = n\n",
    "print('Trial and error for the calculation of e1A:')\n",
    "print('  e1A = %.3f --> F1 = %.0f N' % (e1A, fT1(e1A)))\n",
    "e1A = 0.15\n",
    "print('  e1A = %.3f --> F1 = %.0f N' % (e1A, fT1(e1A)))\n",
    "e1A = 0.17\n",
    "print('  e1A = %.3f --> F1 = %.0f N' % (e1A, fT1(e1A)))\n",
    "e1A = 0.166\n",
    "print('  e1A = %.3f --> F1 = %.0f N' % (e1A, fT1(e1A)))\n",
    "print('Solution: e1A = %.3f' % e1A)\n",
    "\n",
    "lA = 20*math.exp(e1A)\n",
    "print('Gauge length: l0A = 20 mm --> lA = %.1f mm' % lA)"
   ]
  }
 ],
 "metadata": {
  "kernelspec": {
   "display_name": "Python [default]",
   "language": "python",
   "name": "python3"
  },
  "language_info": {
   "codemirror_mode": {
    "name": "ipython",
    "version": 3
   },
   "file_extension": ".py",
   "mimetype": "text/x-python",
   "name": "python",
   "nbconvert_exporter": "python",
   "pygments_lexer": "ipython3",
   "version": "3.5.3"
  }
 },
 "nbformat": 4,
 "nbformat_minor": 4
}
