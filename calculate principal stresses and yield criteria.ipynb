{
 "cells": [
  {
   "cell_type": "markdown",
   "metadata": {},
   "source": [
    "## Calculating the principal stresses\n",
    "\n",
    "This notebook explores the procedure for calculating the principal components of a stress tensor.\n",
    "\n",
    "A state of stress in tensor notation is expressed as:\n",
    "$$\n",
    "\\sigma_{ij} = \n",
    "\\begin{bmatrix}\n",
    "\\sigma_{xx} & \\sigma_{xy} & \\sigma_{xz} \\\\\n",
    "\\sigma_{xy} & \\sigma_{yy} & \\sigma_{yz} \\\\\n",
    "\\sigma_{xz} & \\sigma_{yz} & \\sigma_{zz}\n",
    "\\end{bmatrix}\n",
    "$$\n",
    "\n",
    "It is always possible to find a set of axes along which the shear stress terms vanish. In this case $\\sigma_1$, $\\sigma_2$ and $\\sigma_3$ are called the principal stresses. The magnitudes of the principal stresses $\\sigma_p$ are the roots of:\n",
    "$$\n",
    "\\sigma_p^3 - I_1 \\sigma_p^2 - I_2 \\sigma_p - I_3 = 0\n",
    "$$\n",
    "where $I_1$, $I_2$ and $I_3$ are called the invariants of the stress tensor:\n",
    "$$\n",
    "\\begin{aligned}\n",
    "I_1 = & \\sigma_{xx} + \\sigma_{yy} + \\sigma_{zz} \\\\\n",
    "I_2 = & \\sigma_{xy}^2 + \\sigma_{xz}^2 + \\sigma_{yz}^2 - \\sigma_{yy}\\sigma_{xx} - \\sigma_{zz}\\sigma_{xx} - \\sigma_{xx}\\sigma_{yy} \\\\\n",
    "I_3 = & \\sigma_{xx}\\sigma_{yy}\\sigma_{zz} + 2\\sigma_{yz}\\sigma_{xz}\\sigma_{xy} - \\sigma_{xx}\\sigma_{yz}^2 - \\sigma_{yy}\\sigma_{xz}^2 - \\sigma_{zz}\\sigma_{xy}^2\n",
    "\\end{aligned}\n",
    "$$\n",
    "\n",
    "### An example in Python\n",
    "\n",
    "For the calculation of the roots $\\sigma_p$ we will use the Python library [NumPy](https://www.numpy.org/). The following functions allow to calculate the stress tensor invariants and the principal stresses in terms of the components of the stress tensor. Execute the cell below to load the functions."
   ]
  },
  {
   "cell_type": "code",
   "execution_count": 1,
   "metadata": {
    "collapsed": true
   },
   "outputs": [],
   "source": [
    "import math\n",
    "import numpy as np\n",
    "\n",
    "def I1(sx, sy, sz):\n",
    "    return sx + sy + sz\n",
    "\n",
    "def I2(sx, sy, sz, sxy, sxz, syz):\n",
    "    return sxy**2 + sxz**2 + syz**2 - sy*sz - sz*sx - sx*sy\n",
    "\n",
    "def I3(sx, sy, sz, sxy, sxz, syz):\n",
    "    return sx*sy*sz +2*syz*sxz*sxy - sx*syz**2 - sy*sxz**2 - sz*sxy**2\n",
    "    \n",
    "def principal_stresses(sx, sy, sz, sxy, sxz, syz):\n",
    "    i1 = I1(sx, sy, sz)\n",
    "    i2 = I2(sx, sy, sz, sxy, sxz, syz)\n",
    "    i3 = I3(sx, sy, sz, sxy, sxz, syz)\n",
    "    return np.roots([1, i1, i2, i3])"
   ]
  },
  {
   "cell_type": "markdown",
   "metadata": {},
   "source": [
    "### Define a stress tensor\n",
    "\n",
    "Set the values of the stresses in the cell below and execute it. The stress tensor will be refreshed with the new values."
   ]
  },
  {
   "cell_type": "code",
   "execution_count": 2,
   "metadata": {},
   "outputs": [
    {
     "name": "stdout",
     "output_type": "stream",
     "text": [
      "[[10 -3  4]\n",
      " [-3  5  2]\n",
      " [ 4  2  7]]\n"
     ]
    }
   ],
   "source": [
    "sx = 10\n",
    "sy = 5\n",
    "sz = 7\n",
    "sxy = -3\n",
    "sxz = 4\n",
    "syz = 2\n",
    "sij = np.array([[sx, sxy, sxz], [sxy, sy, syz], [sxz, syz, sz]])\n",
    "print(sij)"
   ]
  },
  {
   "cell_type": "markdown",
   "metadata": {},
   "source": [
    "### Determine the invariants\n",
    "\n",
    "Execute the cell below to determine the invariants of the stress tensor."
   ]
  },
  {
   "cell_type": "code",
   "execution_count": 3,
   "metadata": {},
   "outputs": [
    {
     "name": "stdout",
     "output_type": "stream",
     "text": [
      "I1 =  22\n",
      "I2 =  -126\n",
      "I3 =  119\n"
     ]
    }
   ],
   "source": [
    "print('I1 = ', I1(sx, sy, sz))\n",
    "print('I2 = ', I2(sx, sy, sz, sxy, sxz, syz))\n",
    "print('I3 = ', I3(sx, sy, sz, sxy, sxz, syz))"
   ]
  },
  {
   "cell_type": "markdown",
   "metadata": {},
   "source": [
    "### Calculate the principal stresses\n",
    "\n",
    "Execute the cell below to calculate the principal stresses."
   ]
  },
  {
   "cell_type": "code",
   "execution_count": 4,
   "metadata": {},
   "outputs": [
    {
     "name": "stdout",
     "output_type": "stream",
     "text": [
      "[[-26.85657419   0.           0.        ]\n",
      " [  0.           3.63892053   0.        ]\n",
      " [  0.           0.           1.21765366]]\n",
      "Principal stresses: -26.86, 3.64, 1.22\n"
     ]
    }
   ],
   "source": [
    "s1, s2, s3 = principal_stresses(sx, sy, sz, sxy, sxz, syz)\n",
    "print(np.array([[s1, 0, 0], [0, s2, 0], [0, 0, s3]]))\n",
    "print(\"Principal stresses: %.2f, %.2f, %.2f\" % (s1, s2, s3))"
   ]
  },
  {
   "cell_type": "markdown",
   "metadata": {},
   "source": [
    "### Mohr's circles\n",
    "\n",
    "To visualize the Mohr's circles, we will use the `pyplot` module of [Matplotlib](https://matplotlib.org/). Execute the cell below to show them."
   ]
  },
  {
   "cell_type": "code",
   "execution_count": 5,
   "metadata": {},
   "outputs": [
    {
     "data": {
      "image/png": "[encoded data removed]",
      "text/plain": [
       "<matplotlib.figure.Figure at 0x7f0d1c1fbc88>"
      ]
     },
     "metadata": {},
     "output_type": "display_data"
    }
   ],
   "source": [
    "import matplotlib.pyplot as plt\n",
    "\n",
    "fig, ax = plt.subplots()\n",
    "ax.axhline(y=0, color='k')\n",
    "ax.axvline(x=0, color='k')\n",
    "circle1 = plt.Circle(((s1+s2)/2, 0), abs(s1-s2)/2, fill=False)\n",
    "circle2 = plt.Circle(((s2+s3)/2, 0), abs(s2-s3)/2, fill=False)\n",
    "circle3 = plt.Circle(((s3+s1)/2, 0), abs(s3-s1)/2, fill=False)\n",
    "ax.add_patch(circle1)\n",
    "ax.add_patch(circle2)\n",
    "ax.add_patch(circle3)\n",
    "ax.set_aspect('equal', adjustable='datalim')\n",
    "ax.plot()\n",
    "plt.show()"
   ]
  },
  {
   "cell_type": "markdown",
   "metadata": {},
   "source": [
    "## Effective stress\n",
    "\n",
    "The definition of a effective stress $\\overline\\sigma$ for a yield criterion is useful such that yielding occurs when the magnitude of $\\overline\\sigma$ reaches the critical value.\n",
    "\n",
    "For the von Mises yield criterion, the effective stress in terms of the principal stresses is given by:\n",
    "$$\n",
    "\\overline\\sigma = \\sqrt{\\frac{1}{2}\\left[ (\\sigma_1-\\sigma_2)^2 + (\\sigma_2-\\sigma_3)^2 + (\\sigma_3-\\sigma_1)^2 \\right] }\n",
    "$$\n",
    "and for the Tresca yield criterion:\n",
    "$$\n",
    "\\overline\\sigma = \\sigma_\\max - \\sigma_\\min\n",
    "$$\n",
    "\n",
    "Execute the cell below to calculate the effective stress for the exercise above."
   ]
  },
  {
   "cell_type": "code",
   "execution_count": 7,
   "metadata": {},
   "outputs": [
    {
     "name": "stdout",
     "output_type": "stream",
     "text": [
      "Effective stress (Mises) = 29.36\n",
      "Effective stress (Tresca) = 30.50\n"
     ]
    }
   ],
   "source": [
    "def mises(s1, s2, s3):\n",
    "    return math.sqrt(1/2*((s1-s2)**2+(s2-s3)**2+(s3-s1)**2))\n",
    "\n",
    "def tresca(s1, s2, s3):\n",
    "    return max(s1, s2, s3) - min(s1, s2, s3)\n",
    "\n",
    "y_mises = mises(s1, s2, s3)\n",
    "y_tresca = tresca(s1, s2, s3)\n",
    "print('Effective stress (Mises) = %0.2f' % y_mises)\n",
    "print('Effective stress (Tresca) = %0.2f' % y_tresca)"
   ]
  }
 ],
 "metadata": {
  "kernelspec": {
   "display_name": "Python [default]",
   "language": "python",
   "name": "python3"
  },
  "language_info": {
   "codemirror_mode": {
    "name": "ipython",
    "version": 3
   },
   "file_extension": ".py",
   "mimetype": "text/x-python",
   "name": "python",
   "nbconvert_exporter": "python",
   "pygments_lexer": "ipython3",
   "version": "3.5.3"
  }
 },
 "nbformat": 4,
 "nbformat_minor": 2
}
