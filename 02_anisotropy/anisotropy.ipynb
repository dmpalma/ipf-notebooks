{
 "cells": [
  {
   "cell_type": "markdown",
   "metadata": {},
   "source": [
    "## Yield surface\n",
    "\n",
    "Horford's non-quadratic yield criterion for anisotropic materials in plane stress ($\\sigma_3=0$):\n",
    "$$\n",
    "\\overline\\sigma = \\sigma_1 \\left( \\frac{r_{90}+r_0\\,\\alpha^a+r_0 \\, r_{90}(1-\\alpha)^a}{r_{90}(1+r_0)} \\right)^{1/a}\n",
    "$$\n",
    "where $r_0$ and $r_{90}$ are the Lankford's coefficients along the rolling (0°) and transverse (90°) directions, respectively. This criterion reduces to the Hill's quadratic yield criterion by setting $a = 2$. For isotropic materials ($r_0 = r_{90} = 1$), it reduces to the Mises's yield criterion by setting $a = 2$ or $a = 4$, and to the Tresca's criterion by setting $a = 1$ or $a = \\infty$. The suggested values for the exponent are $a = 6$ for BCC metals and $a = 8$ for FCC materials.\n",
    "\n",
    "### Example in Python\n",
    "\n",
    "Use the slider in the `interactive plot` to automatically update the figure. It simulates the above yield surfaces in the principal stress space."
   ]
  },
  {
   "cell_type": "code",
   "execution_count": 1,
   "metadata": {},
   "outputs": [
    {
     "data": {
      "application/vnd.jupyter.widget-view+json": {
       "model_id": "8f99e3c4d936436fb1d88d0f5a2b1cab",
       "version_major": 2,
       "version_minor": 0
      },
      "text/plain": [
       "interactive(children=(IntSlider(value=200, description='$\\\\sigma_y$:', max=500, min=50, step=5), FloatSlider(v…"
      ]
     },
     "metadata": {},
     "output_type": "display_data"
    }
   ],
   "source": [
    "%matplotlib inline\n",
    "from ipywidgets import interactive, fixed\n",
    "import ipywidgets as widgets\n",
    "from anisotropy import *\n",
    "wsy=widgets.IntSlider(min=50, max=500, step=5, value=200, description=r'$\\sigma_y$:')\n",
    "wr0=widgets.FloatSlider(min=0.5, max=2, step=0.01, value=1.2, description=r'$r_0$:')\n",
    "wr90=widgets.FloatSlider(min=0.5, max=2, step=0.01, value=1.8, description=r'$r_{90}$:')\n",
    "wa=widgets.IntSlider(min=2, max=8, step=2, value=6, description=r'$a$:')\n",
    "ip=interactive(plot_ys, sy=wsy, r0=wr0, r90=wr90, a=wa)\n",
    "ip"
   ]
  }
 ],
 "metadata": {
  "kernelspec": {
   "display_name": "Python [default]",
   "language": "python",
   "name": "python3"
  },
  "language_info": {
   "codemirror_mode": {
    "name": "ipython",
    "version": 3
   },
   "file_extension": ".py",
   "mimetype": "text/x-python",
   "name": "python",
   "nbconvert_exporter": "python",
   "pygments_lexer": "ipython3",
   "version": "3.5.3"
  }
 },
 "nbformat": 4,
 "nbformat_minor": 4
}
